{
 "cells": [
  {
   "cell_type": "code",
   "execution_count": 43,
   "id": "bbeb3e5d-e4ff-4fc7-8610-232cf8ca88f4",
   "metadata": {},
   "outputs": [],
   "source": [
    "import pandas as pd\n",
    "import numpy as np\n",
    "from tqdm import tqdm"
   ]
  },
  {
   "cell_type": "code",
   "execution_count": 44,
   "id": "1427ae28-14a5-4491-9391-18d81ddec781",
   "metadata": {},
   "outputs": [],
   "source": [
    "import tensorflow as tf\n",
    "from tensorflow.keras.datasets import mnist, fashion_mnist"
   ]
  },
  {
   "cell_type": "code",
   "execution_count": 45,
   "id": "38a44105-f7c6-466e-836e-463907d03f9c",
   "metadata": {},
   "outputs": [],
   "source": [
    "(X_train, y_train), (X_test, y_test) = mnist.load_data()"
   ]
  },
  {
   "cell_type": "code",
   "execution_count": 46,
   "id": "0e5faf1c-b6ae-48d1-9988-a303e51d5a62",
   "metadata": {},
   "outputs": [],
   "source": [
    "X_train = X_train.reshape(60000,784)\n",
    "X_test = X_test.reshape(10000,784)"
   ]
  },
  {
   "cell_type": "code",
   "execution_count": 5,
   "id": "52b1900d-808c-4994-a799-6014c6f2c51e",
   "metadata": {},
   "outputs": [],
   "source": [
    "from sklearn.metrics import pairwise_distances\n",
    "from sklearn.metrics.pairwise import cosine_similarity\n",
    "from statistics import mode"
   ]
  },
  {
   "cell_type": "code",
   "execution_count": 6,
   "id": "533c5fdc-fcc4-4759-8479-0ffdaf63b516",
   "metadata": {},
   "outputs": [],
   "source": [
    "# %time\n",
    "# euc_sq_dist = np.square(pairwise_distances(X_train, X_test))"
   ]
  },
  {
   "cell_type": "code",
   "execution_count": 7,
   "id": "37b7d6db-4653-4fad-b30b-f820892205c5",
   "metadata": {},
   "outputs": [
    {
     "data": {
      "text/plain": [
       "(array([0, 1, 2, 3, 4, 5, 6, 7, 8, 9], dtype=uint8),\n",
       " array([ 980, 1135, 1032, 1010,  982,  892,  958, 1028,  974, 1009]))"
      ]
     },
     "execution_count": 7,
     "metadata": {},
     "output_type": "execute_result"
    }
   ],
   "source": [
    "#Check the distribution of numbers in y_test - Fairly Uniform\n",
    "np.unique(y_test, return_counts=True)"
   ]
  },
  {
   "cell_type": "code",
   "execution_count": 65,
   "id": "e7be084e-b3d4-424f-ab8d-41321feb68d5",
   "metadata": {},
   "outputs": [],
   "source": [
    "#Randomly select 10 indices from X_test\n",
    "random_indices = np.random.choice(X_test.shape[0], 10, replace = False)"
   ]
  },
  {
   "cell_type": "code",
   "execution_count": 66,
   "id": "029cfffc-96ef-43b0-b2df-47c6b6c8ec5d",
   "metadata": {},
   "outputs": [],
   "source": [
    "#Initialising Means\n",
    "init_means = X_test[random_indices]"
   ]
  },
  {
   "cell_type": "code",
   "execution_count": 67,
   "id": "cfdc20d2-c1c4-4a32-bd55-cfd3bc6b6fff",
   "metadata": {},
   "outputs": [
    {
     "name": "stdout",
     "output_type": "stream",
     "text": [
      "700894305660.0\n"
     ]
    }
   ],
   "source": [
    "#Now, we need to get the distance of each point from the initial means and only select the minimum distance for that point\n",
    "#So, we again take the euclidean sq distance between the 10000 X_test points and the 10 initialised means to get a 10000x10 sq dist matrix\n",
    "dist_matrix = np.square(pairwise_distances(X_test,init_means))\n",
    "print(np.sum(dist_matrix))"
   ]
  },
  {
   "cell_type": "code",
   "execution_count": 68,
   "id": "f74fe02d-3c99-417b-bc8f-5f13c3f9dbed",
   "metadata": {},
   "outputs": [],
   "source": [
    "#Now, we need to get the minimum distance, so for each row, we need to get the minimum value or assign 1 to the min value\n",
    "#and assign 0 to all the other values\n",
    "min_dist = np.min(dist_matrix, axis = 1)\n",
    "pi_matrix = np.where(dist_matrix == min_dist[:,np.newaxis], 1, 0)"
   ]
  },
  {
   "cell_type": "code",
   "execution_count": 69,
   "id": "ec8574d2-f6ce-4c5d-999d-a01208569ad1",
   "metadata": {},
   "outputs": [],
   "source": [
    "#np.newaxis is used to make sure that the minimum values obtained for each row have the correct shape \n",
    "#to be compared with the entire row of the original array"
   ]
  },
  {
   "cell_type": "code",
   "execution_count": 70,
   "id": "28260676-4d10-4488-b58c-f5e5819b354d",
   "metadata": {},
   "outputs": [
    {
     "data": {
      "text/plain": [
       "array([1678, 2182,  343,  628,  626, 2049,  872,  474,  533,  615])"
      ]
     },
     "execution_count": 70,
     "metadata": {},
     "output_type": "execute_result"
    }
   ],
   "source": [
    "#Values in each cluster\n",
    "np.sum(pi_matrix, axis = 0)"
   ]
  },
  {
   "cell_type": "code",
   "execution_count": 71,
   "id": "734e766e-b857-4138-bdee-83ebd46d553e",
   "metadata": {},
   "outputs": [
    {
     "data": {
      "text/plain": [
       "(array([   0,    1,    2, ..., 9997, 9998, 9999]),\n",
       " array([0, 1, 1, ..., 0, 0, 8]))"
      ]
     },
     "execution_count": 71,
     "metadata": {},
     "output_type": "execute_result"
    }
   ],
   "source": [
    "np.where(pi_matrix == 1)"
   ]
  },
  {
   "cell_type": "code",
   "execution_count": 72,
   "id": "1665488e-fd85-4736-8b4f-1692dd7a0595",
   "metadata": {},
   "outputs": [],
   "source": [
    "pi_df = pd.DataFrame(pi_matrix)"
   ]
  },
  {
   "cell_type": "code",
   "execution_count": 75,
   "id": "1a2c2872-f851-4a28-8f1c-73111380287b",
   "metadata": {},
   "outputs": [],
   "source": [
    "# pi_df"
   ]
  },
  {
   "cell_type": "code",
   "execution_count": 73,
   "id": "83e705d7-0a5c-4150-8ab8-1f87a687f69a",
   "metadata": {},
   "outputs": [],
   "source": [
    "# np.average(X_test[np.array(pi_df[pi_df[0]==1].index)], axis=0)"
   ]
  },
  {
   "cell_type": "code",
   "execution_count": 74,
   "id": "d29c1813-b9f1-4369-a098-7529fbf1996b",
   "metadata": {},
   "outputs": [],
   "source": [
    "new_init_means = []\n",
    "clusters = []\n",
    "for col in pi_df.columns:\n",
    "    new_init_means.append(np.average(X_test[np.array(pi_df[pi_df[col]==1].index)], axis=0))\n",
    "    clusters.append(X_test[np.array(pi_df[pi_df[col]==1].index)])\n",
    "init_means = np.array(new_init_means)\n",
    "clusters = np.array(clusters, dtype = object)\n",
    "# init_means = np.array(new_init_means)"
   ]
  },
  {
   "cell_type": "code",
   "execution_count": 90,
   "id": "58871366-4d91-4ac8-91c3-c776a39e3881",
   "metadata": {},
   "outputs": [],
   "source": [
    "# import matplotlib.pyplot as plt\n",
    "# for i, cluster in enumerate(clusters):\n",
    "#     representative_element = cluster[0, :]  # Use the first element as a representative\n",
    "#     plt.scatter(range(len(representative_element)), representative_element, label=f'Cluster {i + 1}', s=5)\n",
    "\n",
    "# # Customize the plot\n",
    "# plt.title('Dot Plot of Each Cluster')\n",
    "# plt.xlabel('Feature Index')\n",
    "# plt.ylabel('Value')\n",
    "# plt.legend()\n",
    "# plt.show()"
   ]
  },
  {
   "cell_type": "code",
   "execution_count": 43,
   "id": "c3c03fae-cb4b-41b2-94b7-70050b87e524",
   "metadata": {},
   "outputs": [],
   "source": [
    "# X_test[np.array(pi_df[pi_df[col]==1].index)]"
   ]
  },
  {
   "cell_type": "code",
   "execution_count": 19,
   "id": "d5e635cb-c6f4-4565-9a9a-2bea8299b002",
   "metadata": {},
   "outputs": [],
   "source": [
    "# np.sum(dist_matrix)"
   ]
  },
  {
   "cell_type": "code",
   "execution_count": 58,
   "id": "cce9483f-54dc-44dc-8976-be434a84d99e",
   "metadata": {},
   "outputs": [],
   "source": [
    "# dist_matrix = np.square(pairwise_distances(X_test,temp_means))\n",
    "# print(np.sum(dist_matrix))"
   ]
  },
  {
   "cell_type": "code",
   "execution_count": 30,
   "id": "57750aaf-e056-4b80-88cd-b93019175ff3",
   "metadata": {},
   "outputs": [],
   "source": [
    "# new_init_means[0].astype(np.uint8)"
   ]
  },
  {
   "cell_type": "code",
   "execution_count": 99,
   "id": "509c36fe-4e4d-4c75-bd33-f4f7f2156b2d",
   "metadata": {},
   "outputs": [],
   "source": [
    "def k_means(k, X_test):\n",
    "    random_indices = np.random.choice(X_test.shape[0], k, replace = False)\n",
    "    init_means = X_test[random_indices]\n",
    "    prev_dist = 0\n",
    "    for iteration in range(100):\n",
    "        ## E step\n",
    "        dist_matrix = np.square(pairwise_distances(X_test,init_means))\n",
    "        # obj_fun = np.sum(dist_matrix)\n",
    "        # print(obj_fun, iteration)\n",
    "        \n",
    "        min_dist = np.min(dist_matrix, axis = 1)\n",
    "        pi_matrix = np.where(dist_matrix == min_dist[:,np.newaxis], 1, 0)\n",
    "    \n",
    "        #Number of values in each cluster\n",
    "        print(np.sum(pi_matrix, axis = 0))\n",
    "    \n",
    "        ## M step\n",
    "        pi_df = pd.DataFrame(pi_matrix)\n",
    "        new_init_means = []\n",
    "        clusters = []\n",
    "        for col in pi_df.columns:\n",
    "            new_init_means.append(np.average(X_test[np.array(pi_df[pi_df[col]==1].index)], axis=0))\n",
    "            clusters.append(y_test[np.array(pi_df[pi_df[col]==1].index)])\n",
    "        init_means = np.array(new_init_means)\n",
    "        clusters = np.array(clusters, dtype = object)\n",
    "        obj_fun = sum(np.sum(np.where(pi_matrix, dist_matrix, 0),axis=1))\n",
    "        print(obj_fun, iteration)\n",
    "\n",
    "        \n",
    "        #Termination Criteria\n",
    "        if abs(prev_dist - obj_fun)/obj_fun < 0.0001:\n",
    "            break\n",
    "        prev_dist = obj_fun\n",
    "\n",
    "    print(\"################# Execution Successful #########################\")\n",
    "\n",
    "    for i in range(k):\n",
    "        true_label = mode(clusters[i])\n",
    "        purity = np.count_nonzero(clusters[i]==true_label)/clusters[i].shape[0]\n",
    "        gini = 1 - purity**2\n",
    "        print(true_label, round(purity,4), round(gini,4))\n",
    "    \n",
    "    print(\"################# Evaluation Successful #########################\")"
   ]
  },
  {
   "cell_type": "code",
   "execution_count": 100,
   "id": "7be4b6ed-9a55-4c72-ae80-3200b27484e5",
   "metadata": {},
   "outputs": [
    {
     "name": "stdout",
     "output_type": "stream",
     "text": [
      "[ 196 2603 1129  643  357  856   32 1454 2024  706]\n",
      "48096187840.0 0\n",
      "[ 260 2231 1319  762  684  911  184 1429 1319  901]\n",
      "27620040573.35609 1\n",
      "[ 276 1969 1348  778  854  932  372 1411 1141  919]\n",
      "26940215853.583874 2\n",
      "[ 324 1699 1347  796  971  971  502 1366 1166  858]\n",
      "26607822447.456367 3\n",
      "[ 385 1525 1328  802 1088  983  595 1261 1229  804]\n",
      "26377306944.080284 4\n",
      "[ 510 1433 1258  817 1169  976  657 1152 1260  768]\n",
      "26190244224.73166 5\n",
      "[ 749 1408 1142  819 1222  959  670 1050 1228  753]\n",
      "25974724644.352436 6\n",
      "[ 924 1441 1119  820 1235  914  645  975 1175  752]\n",
      "25744121662.001038 7\n",
      "[1004 1493 1104  815 1226  882  654  931 1135  756]\n",
      "25635591317.80125 8\n",
      "[1058 1516 1086  802 1234  863  661  903 1111  766]\n",
      "25577797385.488857 9\n",
      "[1096 1537 1057  785 1241  847  668  885 1113  771]\n",
      "25542662202.13613 10\n",
      "[1123 1549 1031  780 1244  828  666  880 1124  775]\n",
      "25523076878.64562 11\n",
      "[1138 1542 1008  783 1239  824  669  879 1142  776]\n",
      "25510949347.975903 12\n",
      "[1147 1540 1003  785 1229  820  671  872 1156  777]\n",
      "25501457410.790512 13\n",
      "[1157 1543  998  785 1214  819  673  870 1164  777]\n",
      "25494809928.555996 14\n",
      "[1164 1548  999  787 1198  822  681  869 1154  778]\n",
      "25490539732.645565 15\n",
      "[1170 1546  990  791 1190  822  682  869 1160  780]\n",
      "25487970431.077885 16\n",
      "[1176 1547  986  788 1186  819  684  867 1163  784]\n",
      "25486011486.638245 17\n",
      "################# Execution Successful #########################\n",
      "9 0.4456 0.8015\n",
      "1 0.7091 0.4972\n",
      "8 0.5649 0.6809\n",
      "7 0.7805 0.3909\n",
      "5 0.2378 0.9435\n",
      "2 0.8718 0.24\n",
      "4 0.4459 0.8012\n",
      "0 0.9273 0.14\n",
      "3 0.6225 0.6125\n",
      "6 0.8788 0.2277\n",
      "################# Evaluation Successful #########################\n"
     ]
    }
   ],
   "source": [
    "#Actual k = 10\n",
    "k_means(10, X_test)"
   ]
  },
  {
   "cell_type": "code",
   "execution_count": 101,
   "id": "a5c2297d-96f5-49bf-b85e-65e396c99035",
   "metadata": {},
   "outputs": [
    {
     "name": "stdout",
     "output_type": "stream",
     "text": [
      "[ 400 2771 4925 1222  682]\n",
      "51131674485.0 0\n",
      "[ 678 2961 4181 1061 1119]\n",
      "29847891056.79114 1\n",
      "[ 788 2972 3803 1043 1394]\n",
      "29149015244.59864 2\n",
      "[ 869 2957 3529 1020 1625]\n",
      "28887952062.611717 3\n",
      "[ 956 2946 3362 1007 1729]\n",
      "28737945533.9857 4\n",
      "[1069 2948 3211 1003 1769]\n",
      "28680162671.723347 5\n",
      "[1172 2952 3081 1005 1790]\n",
      "28655123368.47102 6\n",
      "[1289 2948 2933 1014 1816]\n",
      "28635154134.403732 7\n",
      "[1415 2938 2800 1028 1819]\n",
      "28611272003.198765 8\n",
      "[1512 2934 2682 1051 1821]\n",
      "28589073931.523346 9\n",
      "[1609 2918 2584 1077 1812]\n",
      "28571990246.984806 10\n",
      "[1684 2895 2508 1111 1802]\n",
      "28556005530.62479 11\n",
      "[1771 2888 2427 1131 1783]\n",
      "28541736597.16184 12\n",
      "[1829 2877 2369 1162 1763]\n",
      "28529454189.894585 13\n",
      "[1884 2869 2330 1181 1736]\n",
      "28520470684.34133 14\n",
      "[1926 2861 2302 1201 1710]\n",
      "28514318284.60338 15\n",
      "[1935 2863 2283 1228 1691]\n",
      "28509556850.16061 16\n",
      "[1957 2865 2268 1248 1662]\n",
      "28503918732.085957 17\n",
      "[1992 2870 2251 1270 1617]\n",
      "28497369744.17725 18\n",
      "[2031 2872 2232 1306 1559]\n",
      "28486142250.181713 19\n",
      "[2087 2875 2209 1357 1472]\n",
      "28462424802.12935 20\n",
      "[2155 2863 2172 1418 1392]\n",
      "28416356655.596268 21\n",
      "[2240 2848 2135 1509 1268]\n",
      "28343290911.273907 22\n",
      "[2301 2848 2107 1591 1153]\n",
      "28238377417.085724 23\n",
      "[2329 2860 2101 1642 1068]\n",
      "28151072557.962482 24\n",
      "[2333 2865 2112 1667 1023]\n",
      "28107345604.465855 25\n",
      "[2326 2872 2121 1687  994]\n",
      "28095102176.75911 26\n",
      "[2321 2880 2135 1695  969]\n",
      "28091120505.812077 27\n",
      "[2312 2882 2151 1699  956]\n",
      "28089219021.651943 28\n",
      "################# Execution Successful #########################\n",
      "3 0.3785 0.8568\n",
      "9 0.3081 0.9051\n",
      "1 0.523 0.7265\n",
      "6 0.4715 0.7777\n",
      "0 0.8944 0.2001\n",
      "################# Evaluation Successful #########################\n"
     ]
    }
   ],
   "source": [
    "#Half k = 5\n",
    "k_means(5, X_test)"
   ]
  },
  {
   "cell_type": "code",
   "execution_count": 102,
   "id": "788b355d-97e0-4c0c-839a-14c10af343ba",
   "metadata": {},
   "outputs": [
    {
     "name": "stdout",
     "output_type": "stream",
     "text": [
      "[ 606  170  322  212  280  506  152  983  899  382  954  518  227  987\n",
      "  135  247  334  543  351 1192]\n",
      "38865534763.0 0\n",
      "[553 266 461 313 412 536 380 675 784 417 672 574 314 887 248 349 425 407\n",
      " 373 954]\n",
      "24291665843.37201 1\n",
      "[540 323 475 351 447 548 483 590 725 433 636 603 343 838 293 391 422 404\n",
      " 367 788]\n",
      "23535034509.36271 2\n",
      "[549 370 484 384 457 533 504 560 684 439 631 641 353 813 294 406 414 423\n",
      " 364 697]\n",
      "23279496736.866978 3\n",
      "[545 404 490 388 469 509 517 526 655 461 623 690 357 786 341 401 373 434\n",
      " 373 658]\n",
      "23109091410.32016 4\n",
      "[550 438 487 392 478 489 529 504 634 470 621 711 354 766 369 390 342 445\n",
      " 391 640]\n",
      "22988684783.276646 5\n",
      "[542 458 486 394 490 478 528 487 616 491 615 734 359 749 388 376 331 454\n",
      " 412 612]\n",
      "22917164865.836807 6\n",
      "[537 465 488 394 503 462 527 470 602 507 611 745 371 730 404 375 330 454\n",
      " 423 602]\n",
      "22870741029.641342 7\n",
      "[537 466 487 397 509 436 537 468 593 513 600 742 379 714 414 383 333 464\n",
      " 429 599]\n",
      "22832307999.99733 8\n",
      "[525 468 487 402 513 414 539 469 587 528 600 728 383 709 420 390 338 467\n",
      " 435 598]\n",
      "22798019396.082237 9\n",
      "[524 464 489 402 514 404 537 468 584 551 602 718 386 707 417 383 342 476\n",
      " 438 594]\n",
      "22772599956.326286 10\n",
      "[524 472 490 402 519 390 535 459 585 558 597 714 384 708 425 379 345 481\n",
      " 444 589]\n",
      "22756284740.52535 11\n",
      "[517 477 488 404 525 373 526 454 586 574 592 721 381 709 434 383 347 478\n",
      " 445 586]\n",
      "22743205969.072582 12\n",
      "[516 480 485 405 527 363 532 453 585 592 586 720 377 710 441 373 348 478\n",
      " 445 584]\n",
      "22732127887.084698 13\n",
      "[515 485 485 405 532 351 536 444 593 608 580 719 373 712 446 365 348 476\n",
      " 443 584]\n",
      "22722470849.633015 14\n",
      "[513 494 485 410 541 346 539 419 591 623 579 717 373 715 454 355 348 474\n",
      " 442 582]\n",
      "22711582864.179768 15\n",
      "[509 496 482 411 552 340 543 400 594 643 576 719 372 714 458 346 348 473\n",
      " 443 581]\n",
      "22694432283.494194 16\n",
      "[505 507 481 411 569 330 548 376 593 652 577 718 372 713 462 346 347 470\n",
      " 443 580]\n",
      "22673650172.982933 17\n",
      "[505 508 479 411 581 319 552 368 595 656 579 721 369 714 462 344 346 469\n",
      " 443 579]\n",
      "22661439541.241596 18\n",
      "[505 512 477 411 586 314 548 361 596 663 581 724 367 715 461 343 346 470\n",
      " 441 579]\n",
      "22657144435.794216 19\n",
      "[507 518 477 410 592 312 541 356 596 663 581 726 366 717 461 341 346 470\n",
      " 441 579]\n",
      "22655142165.429493 20\n",
      "################# Execution Successful #########################\n",
      "6 0.9349 0.1259\n",
      "3 0.5097 0.7403\n",
      "2 0.9329 0.1297\n",
      "2 0.9439 0.109\n",
      "3 0.7365 0.4576\n",
      "0 0.9423 0.1121\n",
      "8 0.8078 0.3475\n",
      "0 0.8708 0.2417\n",
      "9 0.4832 0.7665\n",
      "8 0.4449 0.802\n",
      "9 0.6127 0.6246\n",
      "5 0.4449 0.8021\n",
      "4 0.7213 0.4797\n",
      "1 0.8856 0.2157\n",
      "4 0.5141 0.7357\n",
      "0 0.9208 0.1521\n",
      "6 0.9509 0.0959\n",
      "7 0.9404 0.1156\n",
      "7 0.7937 0.3701\n",
      "1 0.8359 0.3012\n",
      "################# Evaluation Successful #########################\n"
     ]
    }
   ],
   "source": [
    "#Doubled k = 20\n",
    "k_means(20, X_test)"
   ]
  },
  {
   "cell_type": "code",
   "execution_count": 103,
   "id": "3270d686-ad54-44e9-bbe5-068190826358",
   "metadata": {},
   "outputs": [],
   "source": [
    "# ###Running the entire algorithm iteratively 5-7 times and printing the sum of euclidean square matrix, as our objective\n",
    "# ###function is to minimize the sum of euclidean distances\n",
    "# from sklearn.metrics import pairwise_distances\n",
    "\n",
    "# k = 10\n",
    "# random_indices = np.random.choice(X_test.shape[0], k, replace = False)\n",
    "# init_means = X_test[random_indices]\n",
    "# prev_dist = 0\n",
    "# for iteration in range(100):\n",
    "#     ## E step\n",
    "#     dist_matrix = np.square(pairwise_distances(X_test,init_means))\n",
    "#     # obj_fun = np.sum(dist_matrix)\n",
    "#     # print(obj_fun, iteration)\n",
    "    \n",
    "#     min_dist = np.min(dist_matrix, axis = 1)\n",
    "#     pi_matrix = np.where(dist_matrix == min_dist[:,np.newaxis], 1, 0)\n",
    "\n",
    "#     #Number of values in each cluster\n",
    "#     print(np.sum(pi_matrix, axis = 0))\n",
    "\n",
    "#     ## M step\n",
    "#     pi_df = pd.DataFrame(pi_matrix)\n",
    "#     new_init_means = []\n",
    "#     clusters = []\n",
    "#     for col in pi_df.columns:\n",
    "#         new_init_means.append(np.average(X_test[np.array(pi_df[pi_df[col]==1].index)], axis=0))\n",
    "#         clusters.append(y_test[np.array(pi_df[pi_df[col]==1].index)])\n",
    "#     init_means = np.array(new_init_means)\n",
    "#     clusters = np.array(clusters, dtype = object)\n",
    "#     obj_fun = sum(np.sum(np.where(pi_matrix, dist_matrix, 0),axis=1))\n",
    "#     print(obj_fun, iteration)\n",
    "    \n",
    "#     #Termination Criteria\n",
    "#     if abs(prev_dist - obj_fun)/obj_fun < 0.0001:\n",
    "#         break\n",
    "#     prev_dist = obj_fun"
   ]
  },
  {
   "cell_type": "code",
   "execution_count": 104,
   "id": "00d43f78-5062-4bda-b56d-4e41850ba730",
   "metadata": {},
   "outputs": [],
   "source": [
    "# np.dot(dist_matrix, pi_matrix.T).shape"
   ]
  },
  {
   "cell_type": "code",
   "execution_count": 105,
   "id": "f7a12e22-88fa-4140-b9cb-daf868900d90",
   "metadata": {},
   "outputs": [],
   "source": [
    "# dist_matrix"
   ]
  },
  {
   "cell_type": "code",
   "execution_count": 106,
   "id": "cc7a3e6e-6e13-495a-b206-e829791b0ae1",
   "metadata": {},
   "outputs": [],
   "source": [
    "# pi_matrix"
   ]
  },
  {
   "cell_type": "code",
   "execution_count": 107,
   "id": "032e6ae5-2597-4219-b48d-5048b7055643",
   "metadata": {},
   "outputs": [],
   "source": [
    "# np.dot(dist_matrix, pi_matrix.T)"
   ]
  },
  {
   "cell_type": "code",
   "execution_count": 108,
   "id": "e537c648-2e9f-4f13-8bc8-b486cb346d3a",
   "metadata": {},
   "outputs": [],
   "source": [
    "# sum(np.sum(np.where(pi_matrix, dist_matrix, 0),axis=1))"
   ]
  },
  {
   "cell_type": "code",
   "execution_count": 78,
   "id": "f9980fa5-ffb9-4cb6-bb97-8f103c8a6c11",
   "metadata": {},
   "outputs": [],
   "source": [
    "# from statistics import mode\n",
    "# for i in range(k):\n",
    "#     true_label = mode(clusters[i])\n",
    "#     purity = np.count_nonzero(clusters[i]==true_label)/clusters[i].shape[0]\n",
    "#     gini = 1 - purity**2\n",
    "#     print(true_label, round(purity,4), round(gini,4))\n",
    "#     # print(mode(clusters[i]))\n",
    "#     # print(np.unique(clusters[i], return_counts = True))"
   ]
  },
  {
   "cell_type": "code",
   "execution_count": 25,
   "id": "71da4fb7-a376-4291-9677-3f8de63bf07b",
   "metadata": {},
   "outputs": [],
   "source": [
    "# # k = 5\n",
    "# from statistics import mode\n",
    "# for i in range(k):\n",
    "#     true_label = mode(clusters[i])\n",
    "#     purity = np.count_nonzero(clusters[i]==true_label)/clusters[i].shape[0]\n",
    "#     gini = 1 - purity**2\n",
    "#     print(true_label, round(purity,4), round(gini,4))\n",
    "#     # print(mode(clusters[i]))\n",
    "#     # print(np.unique(clusters[i], return_counts = True))"
   ]
  },
  {
   "cell_type": "code",
   "execution_count": 26,
   "id": "fb2c4f26-1978-4486-b316-6984b9fe54dd",
   "metadata": {},
   "outputs": [],
   "source": [
    "# # k = 20\n",
    "# from statistics import mode\n",
    "# for i in range(k):\n",
    "#     true_label = mode(clusters[i])\n",
    "#     purity = np.count_nonzero(clusters[i]==true_label)/clusters[i].shape[0]\n",
    "#     gini = 1 - purity**2\n",
    "#     print(true_label, round(purity,4), round(gini,4))\n",
    "#     # print(mode(clusters[i]))\n",
    "#     # print(np.unique(clusters[i], return_counts = True))"
   ]
  },
  {
   "cell_type": "code",
   "execution_count": 185,
   "id": "28f87e15-6cb0-415a-bfd0-03a2c4c2d9e6",
   "metadata": {},
   "outputs": [
    {
     "data": {
      "text/plain": [
       "(array([0, 1, 2, 3, 4, 5, 6, 7, 8, 9], dtype=uint8),\n",
       " array([ 980, 1135, 1032, 1010,  982,  892,  958, 1028,  974, 1009]))"
      ]
     },
     "execution_count": 185,
     "metadata": {},
     "output_type": "execute_result"
    }
   ],
   "source": [
    "np.unique(y_test, return_counts=True)"
   ]
  },
  {
   "cell_type": "code",
   "execution_count": 189,
   "id": "9319ba3e-7015-434d-9e1a-279cd388db0f",
   "metadata": {},
   "outputs": [
    {
     "data": {
      "text/plain": [
       "(1451,)"
      ]
     },
     "execution_count": 189,
     "metadata": {},
     "output_type": "execute_result"
    }
   ],
   "source": [
    "clusters[0].shape"
   ]
  },
  {
   "cell_type": "code",
   "execution_count": 96,
   "id": "c3de5ca1-9d6a-4686-bbfb-524bf6c054c1",
   "metadata": {},
   "outputs": [
    {
     "data": {
      "text/plain": [
       "203288461367.905"
      ]
     },
     "execution_count": 96,
     "metadata": {},
     "output_type": "execute_result"
    }
   ],
   "source": [
    "obj_fun"
   ]
  },
  {
   "cell_type": "code",
   "execution_count": 98,
   "id": "993920a6-857d-4fe2-b1dd-262044418696",
   "metadata": {},
   "outputs": [
    {
     "data": {
      "text/plain": [
       "434426023968.73706"
      ]
     },
     "execution_count": 98,
     "metadata": {},
     "output_type": "execute_result"
    }
   ],
   "source": [
    "obj_fun"
   ]
  },
  {
   "cell_type": "code",
   "execution_count": 100,
   "id": "0f4e8956-f8c5-4370-b404-a7f10d9272f1",
   "metadata": {},
   "outputs": [
    {
     "data": {
      "text/plain": [
       "924888318113.3265"
      ]
     },
     "execution_count": 100,
     "metadata": {},
     "output_type": "execute_result"
    }
   ],
   "source": [
    "obj_fun"
   ]
  },
  {
   "cell_type": "code",
   "execution_count": 10,
   "id": "7a91322e-5734-4dc1-8cd1-62b79bb97503",
   "metadata": {},
   "outputs": [],
   "source": [
    "###### Fashion Dataset ######"
   ]
  },
  {
   "cell_type": "code",
   "execution_count": 109,
   "id": "79223be3-61aa-4b85-a5bc-4d4e193fb9e0",
   "metadata": {},
   "outputs": [],
   "source": [
    "import tensorflow as tf\n",
    "from tensorflow.keras.datasets import fashion_mnist"
   ]
  },
  {
   "cell_type": "code",
   "execution_count": 110,
   "id": "40221edc-66c4-4c6a-9c5b-eca13794ea3b",
   "metadata": {},
   "outputs": [],
   "source": [
    "(X_train, y_train), (X_test, y_test) = fashion_mnist.load_data()"
   ]
  },
  {
   "cell_type": "code",
   "execution_count": 111,
   "id": "aa33ca80-042e-4daf-8e18-9581a9b09af5",
   "metadata": {},
   "outputs": [],
   "source": [
    "X_train = X_train.reshape(60000,784)\n",
    "X_test = X_test.reshape(10000,784)"
   ]
  },
  {
   "cell_type": "code",
   "execution_count": 87,
   "id": "d96832d0-542b-4db7-a2fa-231deb76d546",
   "metadata": {},
   "outputs": [],
   "source": [
    "# ###Running the entire algorithm iteratively 5-7 times and printing the sum of euclidean square matrix, as our objective\n",
    "# ###function is to minimize the sum of euclidean distances\n",
    "# from sklearn.metrics import pairwise_distances\n",
    "\n",
    "# k = 10\n",
    "# random_indices = np.random.choice(X_test.shape[0], k, replace = False)\n",
    "# init_means = X_test[random_indices]\n",
    "# prev_dist = 0\n",
    "# for iteration in range(100):\n",
    "#     ## E step\n",
    "#     dist_matrix = np.square(pairwise_distances(X_test,init_means))\n",
    "#     obj_fun = np.sum(dist_matrix)\n",
    "#     print(obj_fun, iteration)\n",
    "    \n",
    "#     min_dist = np.min(dist_matrix, axis = 1)\n",
    "#     pi_matrix = np.where(dist_matrix == min_dist[:,np.newaxis], 1, 0)\n",
    "\n",
    "#     #Number of values in each cluster\n",
    "#     print(np.sum(pi_matrix, axis = 0))\n",
    "\n",
    "#     ## M step\n",
    "#     pi_df = pd.DataFrame(pi_matrix)\n",
    "#     new_init_means = []\n",
    "#     clusters = []\n",
    "#     for col in pi_df.columns:\n",
    "#         new_init_means.append(np.average(X_test[np.array(pi_df[pi_df[col]==1].index)], axis=0))\n",
    "#         clusters.append(y_test[np.array(pi_df[pi_df[col]==1].index)])\n",
    "#     init_means = np.array(new_init_means)\n",
    "#     clusters = np.array(clusters, dtype = object)\n",
    "    \n",
    "#     #Termination Criteria\n",
    "#     if abs(prev_dist - obj_fun)/obj_fun < 0.0001:\n",
    "#         break\n",
    "#     prev_dist = obj_fun"
   ]
  },
  {
   "cell_type": "code",
   "execution_count": 88,
   "id": "5ad09cc2-ddf4-4045-a49b-b1552bbb0336",
   "metadata": {},
   "outputs": [],
   "source": [
    "# from statistics import mode\n",
    "# for i in range(k):\n",
    "#     true_label = mode(clusters[i])\n",
    "#     purity = np.count_nonzero(clusters[i]==true_label)/clusters[i].shape[0]\n",
    "#     gini = 1 - purity**2\n",
    "#     print(true_label, round(purity,4), round(gini,4))\n",
    "#     # print(mode(clusters[i]))\n",
    "#     # print(np.unique(clusters[i], return_counts = True))"
   ]
  },
  {
   "cell_type": "code",
   "execution_count": 112,
   "id": "0f634227-8df9-42fa-9b7a-3502a2ebe423",
   "metadata": {},
   "outputs": [
    {
     "name": "stdout",
     "output_type": "stream",
     "text": [
      "[ 883  172  535  313  247 2582  656 2371  538 1703]\n",
      "43876843487.0 0\n",
      "[ 988  668  654  417  254 2269  567 2134  589 1460]\n",
      "23741759610.430344 1\n",
      "[ 846  792 1055  493  295 1862  563 1943  612 1539]\n",
      "22262996460.406143 2\n",
      "[ 782  823 1154  582  336 1748  589 1847  621 1518]\n",
      "21591720779.522667 3\n",
      "[ 769  826 1187  655  362 1705  595 1796  581 1524]\n",
      "21441751872.370064 4\n",
      "[ 789  825 1213  700  379 1685  583 1756  534 1536]\n",
      "21374436009.4633 5\n",
      "[ 826  825 1252  719  391 1673  558 1709  501 1546]\n",
      "21287032710.41455 6\n",
      "[ 848  822 1282  728  404 1678  525 1659  493 1561]\n",
      "21191446078.00852 7\n",
      "[ 869  823 1313  727  413 1686  495 1609  486 1579]\n",
      "21110195185.96981 8\n",
      "[ 882  814 1330  726  424 1707  459 1567  471 1620]\n",
      "21044242987.8295 9\n",
      "[ 885  807 1341  730  428 1726  439 1550  446 1648]\n",
      "20985158676.306183 10\n",
      "[ 860  806 1316  773  430 1747  417 1538  434 1679]\n",
      "20931616503.12079 11\n",
      "[ 834  805 1292  814  432 1757  408 1529  424 1705]\n",
      "20882916636.009857 12\n",
      "[ 826  805 1257  839  435 1763  396 1522  422 1735]\n",
      "20855723332.77174 13\n",
      "[ 836  800 1234  844  440 1770  393 1520  412 1751]\n",
      "20841042028.880398 14\n",
      "[ 850  798 1213  850  443 1770  391 1520  410 1755]\n",
      "20835934985.06096 15\n",
      "[ 862  800 1199  854  446 1769  387 1515  413 1755]\n",
      "20833560346.588795 16\n",
      "[ 868  800 1189  858  450 1766  387 1512  413 1757]\n",
      "20831828408.889027 17\n",
      "################# Execution Successful #########################\n",
      "3 0.7154 0.4881\n",
      "9 0.67 0.5511\n",
      "0 0.5046 0.7454\n",
      "1 0.9918 0.0163\n",
      "9 0.9089 0.1739\n",
      "4 0.372 0.8616\n",
      "8 0.9173 0.1585\n",
      "7 0.5503 0.6972\n",
      "8 0.9467 0.1037\n",
      "6 0.2186 0.9522\n",
      "################# Evaluation Successful #########################\n"
     ]
    }
   ],
   "source": [
    "#Actual k =10\n",
    "k_means(10, X_test)"
   ]
  },
  {
   "cell_type": "code",
   "execution_count": 113,
   "id": "d2367737-f3a1-47ee-8176-d1c797abb82d",
   "metadata": {},
   "outputs": [
    {
     "name": "stdout",
     "output_type": "stream",
     "text": [
      "[ 966 3277 2741 2277  739]\n",
      "47032524352.0 0\n",
      "[1319 2870 3030 1537 1244]\n",
      "27760618251.849705 1\n",
      "[1358 2637 3096 1497 1412]\n",
      "27170612859.11854 2\n",
      "[1446 2516 3086 1470 1482]\n",
      "26891136693.62958 3\n",
      "[1542 2429 3033 1475 1521]\n",
      "26654522590.534298 4\n",
      "[1599 2382 2925 1560 1534]\n",
      "26469835244.08346 5\n",
      "[1655 2380 2790 1643 1532]\n",
      "26307801196.438477 6\n",
      "[1708 2400 2669 1692 1531]\n",
      "26136872313.32957 7\n",
      "[1785 2444 2551 1693 1527]\n",
      "25966687027.816586 8\n",
      "[1863 2495 2457 1668 1517]\n",
      "25768174838.529507 9\n",
      "[1918 2527 2402 1645 1508]\n",
      "25638924934.50211 10\n",
      "[1944 2528 2363 1662 1503]\n",
      "25587516407.7581 11\n",
      "[1973 2512 2341 1672 1502]\n",
      "25565036622.523422 12\n",
      "[2003 2498 2334 1676 1489]\n",
      "25547239792.062843 13\n",
      "[2022 2472 2348 1676 1482]\n",
      "25537232442.58633 14\n",
      "[2038 2438 2367 1685 1472]\n",
      "25530564346.787315 15\n",
      "[2057 2395 2407 1676 1465]\n",
      "25523248808.391838 16\n",
      "[2066 2362 2447 1672 1453]\n",
      "25514569339.82289 17\n",
      "[2082 2305 2511 1657 1445]\n",
      "25505757309.86446 18\n",
      "[2104 2247 2569 1643 1437]\n",
      "25494682438.63093 19\n",
      "[2125 2183 2633 1631 1428]\n",
      "25481006958.981884 20\n",
      "[2144 2121 2703 1610 1422]\n",
      "25465595100.605015 21\n",
      "[2154 2071 2757 1599 1419]\n",
      "25451440462.626328 22\n",
      "[2167 2012 2812 1587 1422]\n",
      "25441366269.733467 23\n",
      "[2185 1962 2852 1577 1424]\n",
      "25429743283.009655 24\n",
      "[2212 1918 2885 1555 1430]\n",
      "25419361538.97906 25\n",
      "[2227 1870 2918 1540 1445]\n",
      "25410192364.255005 26\n",
      "[2237 1836 2937 1531 1459]\n",
      "25403104492.63832 27\n",
      "[2241 1799 2958 1528 1474]\n",
      "25398973321.13992 28\n",
      "[2240 1777 2972 1529 1482]\n",
      "25395602982.572388 29\n",
      "[2233 1757 2986 1534 1490]\n",
      "25394079677.93997 30\n",
      "################# Execution Successful #########################\n",
      "2 0.3126 0.9023\n",
      "1 0.5185 0.7312\n",
      "5 0.3031 0.9081\n",
      "9 0.6004 0.6395\n",
      "0 0.445 0.802\n",
      "################# Evaluation Successful #########################\n"
     ]
    }
   ],
   "source": [
    "#Half k =5\n",
    "k_means(5, X_test)"
   ]
  },
  {
   "cell_type": "code",
   "execution_count": 114,
   "id": "878e1797-03ef-40a0-bbdc-cb91269a3c8e",
   "metadata": {},
   "outputs": [
    {
     "name": "stdout",
     "output_type": "stream",
     "text": [
      "[ 340  412  954  188  268  785  172  539  166  859  148  867  225  285\n",
      "    4  868 1120  250  277 1273]\n",
      "33859193341.0 0\n",
      "[ 552  412  703  155  322  645  220  580  466  759  221  777  270  357\n",
      "   84  732 1069  493  407  776]\n",
      "19003091133.958866 1\n",
      "[633 423 678 152 362 598 276 554 741 668 218 756 296 367 119 735 920 541\n",
      " 434 529]\n",
      "18112929098.34457 2\n",
      "[618 429 670 153 368 595 334 516 786 613 218 769 308 371 126 728 924 545\n",
      " 423 506]\n",
      "17851021213.605785 3\n",
      "[598 419 660 155 368 595 376 477 802 582 216 772 313 377 133 734 949 552\n",
      " 417 505]\n",
      "17777943624.248432 4\n",
      "[587 413 654 156 363 599 407 438 808 567 214 765 316 379 137 739 986 556\n",
      " 417 499]\n",
      "17721040185.34898 5\n",
      "[574 415 649 158 363 602 432 408 805 556 212 758 317 379 141 749 994 557\n",
      " 418 513]\n",
      "17667207882.40024 6\n",
      "[575 412 655 158 363 609 456 378 795 548 211 750 319 381 143 753 979 562\n",
      " 419 534]\n",
      "17628778911.241043 7\n",
      "[574 410 648 159 359 615 474 365 794 542 211 743 321 386 144 769 957 565\n",
      " 418 546]\n",
      "17606789879.849056 8\n",
      "[571 405 639 159 359 622 498 356 792 532 211 737 321 391 147 777 942 566\n",
      " 419 556]\n",
      "17595544283.28038 9\n",
      "[573 404 635 161 359 625 516 352 792 524 213 733 321 391 148 776 929 570\n",
      " 421 557]\n",
      "17586889626.8061 10\n",
      "[569 399 628 161 363 629 531 349 793 517 213 734 321 394 149 778 917 571\n",
      " 423 561]\n",
      "17580812319.01584 11\n",
      "[568 392 617 161 366 632 551 347 795 514 213 733 321 393 151 782 907 574\n",
      " 424 559]\n",
      "17575843493.556118 12\n",
      "[570 385 615 161 368 636 557 345 795 519 213 734 321 391 152 778 901 578\n",
      " 425 556]\n",
      "17572465255.455223 13\n",
      "[572 380 604 162 373 638 570 343 794 517 213 734 321 392 151 780 898 577\n",
      " 425 556]\n",
      "17569597982.640762 14\n",
      "[572 376 603 165 382 640 571 343 793 507 211 734 322 397 151 781 896 577\n",
      " 424 555]\n",
      "17566065562.91728 15\n",
      "[572 371 602 169 393 640 579 342 793 499 209 734 322 397 149 781 894 576\n",
      " 424 554]\n",
      "17562632996.812634 16\n",
      "[572 370 601 174 400 640 585 342 793 495 205 734 322 395 149 781 891 575\n",
      " 423 553]\n",
      "17559712794.967487 17\n",
      "[572 367 603 177 403 640 591 342 793 494 200 734 323 393 150 779 889 575\n",
      " 422 553]\n",
      "17557074308.774643 18\n",
      "[572 368 602 178 414 640 599 342 793 481 200 734 323 392 149 778 888 573\n",
      " 421 553]\n",
      "17554712370.00264 19\n",
      "[572 369 597 181 423 640 609 342 793 472 198 733 323 390 149 777 887 571\n",
      " 421 553]\n",
      "17552304491.77551 20\n",
      "[572 370 596 184 429 641 612 342 793 467 195 733 323 390 150 776 886 568\n",
      " 420 553]\n",
      "17550763372.43743 21\n",
      "################# Execution Successful #########################\n",
      "9 0.8689 0.245\n",
      "4 0.4892 0.7607\n",
      "2 0.3859 0.8511\n",
      "8 0.9674 0.0642\n",
      "2 0.4639 0.7848\n",
      "0 0.83 0.3112\n",
      "2 0.3627 0.8684\n",
      "9 0.9123 0.1677\n",
      "7 0.797 0.3648\n",
      "4 0.454 0.7939\n",
      "8 0.9692 0.0606\n",
      "1 0.9945 0.0109\n",
      "8 0.9412 0.1142\n",
      "2 0.3949 0.8441\n",
      "8 0.7733 0.402\n",
      "0 0.3183 0.8987\n",
      "5 0.7562 0.4281\n",
      "3 0.4912 0.7587\n",
      "3 0.8619 0.2571\n",
      "7 0.4882 0.7616\n",
      "################# Evaluation Successful #########################\n"
     ]
    }
   ],
   "source": [
    "#Doubled k =20\n",
    "k_means(20, X_test)"
   ]
  },
  {
   "cell_type": "code",
   "execution_count": 22,
   "id": "4d761873-b001-4c05-9c42-3c7f03f80706",
   "metadata": {},
   "outputs": [],
   "source": [
    "######## 20 NG #########"
   ]
  },
  {
   "cell_type": "code",
   "execution_count": 11,
   "id": "2ce118f0-2ec8-463e-a97b-3fc3c0cef7c9",
   "metadata": {},
   "outputs": [],
   "source": [
    "from sklearn.datasets import fetch_20newsgroups\n",
    "from sklearn.feature_extraction.text import TfidfVectorizer\n",
    "from sklearn.metrics.pairwise import cosine_similarity"
   ]
  },
  {
   "cell_type": "code",
   "execution_count": 116,
   "id": "51d4e977-3705-4a27-8145-fc42457f1e55",
   "metadata": {},
   "outputs": [],
   "source": [
    "train_data = fetch_20newsgroups(subset = \"train\", categories = [\"alt.atheism\", \"sci.med\", \"sci.electronics\", \"comp.graphics\", \"talk.politics.guns\", \"sci.crypt\"])\n",
    "test_data = fetch_20newsgroups(subset = \"test\", categories = [\"alt.atheism\", \"sci.med\", \"sci.electronics\", \"comp.graphics\", \"talk.politics.guns\", \"sci.crypt\"])"
   ]
  },
  {
   "cell_type": "code",
   "execution_count": 117,
   "id": "233a5fb5-a306-4fdc-a39f-37cc7e560a4d",
   "metadata": {},
   "outputs": [],
   "source": [
    "train_labels = train_data.target\n",
    "test_labels = test_data.target"
   ]
  },
  {
   "cell_type": "code",
   "execution_count": 118,
   "id": "accea46c-2ef7-4df0-abf0-b4be7a903bf5",
   "metadata": {},
   "outputs": [],
   "source": [
    "vectorizer = TfidfVectorizer()\n",
    "all_data = train_data.data + test_data.data\n",
    "all_vectors = vectorizer.fit_transform(all_data)"
   ]
  },
  {
   "cell_type": "code",
   "execution_count": 119,
   "id": "decbd684-23d3-474f-be0d-cae6c05878de",
   "metadata": {},
   "outputs": [],
   "source": [
    "train_vectors = all_vectors[:3390]\n",
    "test_vectors = all_vectors[3390:]"
   ]
  },
  {
   "cell_type": "code",
   "execution_count": 120,
   "id": "59406a65-88f5-48db-bf29-b22c36da993e",
   "metadata": {},
   "outputs": [
    {
     "data": {
      "text/plain": [
       "(2257, 62583)"
      ]
     },
     "execution_count": 120,
     "metadata": {},
     "output_type": "execute_result"
    }
   ],
   "source": [
    "test_vectors.shape"
   ]
  },
  {
   "cell_type": "code",
   "execution_count": 121,
   "id": "6be377f2-b22a-4add-8cd4-f271ec017374",
   "metadata": {},
   "outputs": [],
   "source": [
    "X_test = test_vectors\n",
    "y_test = test_labels"
   ]
  },
  {
   "cell_type": "code",
   "execution_count": 122,
   "id": "c842dde7-07c5-43c9-b3fb-34d9b2a00164",
   "metadata": {},
   "outputs": [],
   "source": [
    "def k_means_20ng(k, X_test):\n",
    "    random_indices = np.random.choice(X_test.shape[0], k, replace = False)\n",
    "    init_means = X_test[random_indices]\n",
    "    prev_dist = 0\n",
    "    for iteration in range(100):\n",
    "        ## E step\n",
    "        # dist_matrix = np.square(pairwise_distances(X_test,init_means))\n",
    "        dist_matrix = cosine_similarity(X_test, init_means)\n",
    "        # obj_fun = np.sum(dist_matrix)\n",
    "        # print(obj_fun, iteration)\n",
    "        \n",
    "        min_dist = np.max(dist_matrix, axis = 1)\n",
    "        pi_matrix = np.where(dist_matrix == min_dist[:,np.newaxis], 1, 0)\n",
    "    \n",
    "        #Number of values in each cluster\n",
    "        print(np.sum(pi_matrix, axis = 0))\n",
    "    \n",
    "        ## M step\n",
    "        pi_df = pd.DataFrame(pi_matrix)\n",
    "        new_init_means = []\n",
    "        clusters = []\n",
    "        for col in pi_df.columns:\n",
    "            new_init_means.append(np.average(X_test[np.array(pi_df[pi_df[col]==1].index)].toarray(), axis=0))\n",
    "            clusters.append(y_test[np.array(pi_df[pi_df[col]==1].index)])\n",
    "        init_means = np.array(new_init_means)\n",
    "        clusters = np.array(clusters, dtype = object)\n",
    "        obj_fun = sum(np.sum(np.where(pi_matrix, dist_matrix, 0),axis=1))\n",
    "        print(obj_fun, iteration)\n",
    "\n",
    "        \n",
    "        #Termination Criteria\n",
    "        if abs(prev_dist - obj_fun)/obj_fun < 0.0001:\n",
    "            break\n",
    "        prev_dist = obj_fun\n",
    "\n",
    "    print(\"################# Execution Successful #########################\")\n",
    "    \n",
    "    for i in range(k):\n",
    "        true_label = mode(clusters[i])\n",
    "        purity = np.count_nonzero(clusters[i]==true_label)/clusters[i].shape[0]\n",
    "        gini = 1 - purity**2\n",
    "        print(true_label, round(purity,4), round(gini,4))\n",
    "\n",
    "    print(\"################# Evaluation Successful #########################\")"
   ]
  },
  {
   "cell_type": "code",
   "execution_count": 123,
   "id": "5f789f1c-e773-41d8-b022-36f69c459e19",
   "metadata": {},
   "outputs": [
    {
     "name": "stdout",
     "output_type": "stream",
     "text": [
      "[170   2  33  18  10 139  95  94  20   5 442 963   9  19  23  36  21  34\n",
      "  45  79]\n",
      "304.0573332471885 0\n",
      "[168   3  40  24  12 178 112 109  32   7 400 861  16  27  26  47  23  34\n",
      "  53  85]\n",
      "631.043846115655 1\n",
      "[157   5  39  30  13 197 125 126  37   7 381 819  17  33  24  52  23  34\n",
      "  51  87]\n",
      "647.9873478276916 2\n",
      "[145   5  40  35  14 210 137 135  38   7 362 808  17  37  23  53  23  34\n",
      "  49  85]\n",
      "656.1314722826577 3\n",
      "[125   5  41  42  15 210 158 138  38   7 353 802  17  36  23  54  23  34\n",
      "  49  87]\n",
      "659.5951822513435 4\n",
      "[104   5  42  47  15 210 174 140  38   7 350 800  17  36  23  54  23  34\n",
      "  49  89]\n",
      "662.5908317796295 5\n",
      "[ 89   5  42  49  15 210 192 140  38   7 344 800  17  36  23  54  23  34\n",
      "  49  90]\n",
      "664.5185887712269 6\n",
      "[ 75   5  42  49  15 209 204 140  38   7 343 801  17  36  23  56  23  34\n",
      "  49  91]\n",
      "665.7953735830437 7\n",
      "[ 73   5  42  49  15 209 202 140  38   7 342 805  17  36  23  56  23  34\n",
      "  49  92]\n",
      "666.552908463977 8\n",
      "[ 72   5  42  49  15 209 201 140  38   7 343 804  17  36  23  56  23  34\n",
      "  49  94]\n",
      "666.7266469111674 9\n",
      "[ 70   5  42  49  15 209 199 140  38   7 344 806  17  36  23  56  23  34\n",
      "  49  95]\n",
      "666.8876815458618 10\n",
      "[ 66   5  42  49  15 210 200 140  38   7 344 808  17  36  23  56  23  34\n",
      "  49  95]\n",
      "667.1005498301311 11\n",
      "[ 59   5  42  49  15 211 207 140  38   7 344 807  17  36  23  56  23  34\n",
      "  49  95]\n",
      "667.3255223441404 12\n",
      "[ 58   5  42  49  15 211 208 140  38   7 344 807  17  36  23  56  23  34\n",
      "  49  95]\n",
      "667.7795392009605 13\n",
      "[ 57   5  42  49  15 211 209 140  38   7 344 807  17  36  23  56  23  34\n",
      "  49  95]\n",
      "667.8104544299589 14\n",
      "################# Execution Successful #########################\n",
      "5 0.6842 0.5319\n",
      "4 0.6 0.64\n",
      "3 0.3095 0.9042\n",
      "0 0.6531 0.5735\n",
      "2 0.7333 0.4622\n",
      "2 0.9242 0.1459\n",
      "5 0.9713 0.0566\n",
      "1 0.9429 0.111\n",
      "2 0.3947 0.8442\n",
      "1 0.5714 0.6735\n",
      "0 0.5087 0.7412\n",
      "3 0.3321 0.8897\n",
      "4 0.4706 0.7785\n",
      "1 0.3333 0.8889\n",
      "0 0.6087 0.6295\n",
      "3 0.4286 0.8163\n",
      "4 0.8261 0.3176\n",
      "2 0.5588 0.6877\n",
      "4 0.3265 0.8934\n",
      "2 0.3158 0.9003\n",
      "################# Evaluation Successful #########################\n"
     ]
    }
   ],
   "source": [
    "#Actual k = 20\n",
    "k_means_20ng(20, X_test)"
   ]
  },
  {
   "cell_type": "code",
   "execution_count": 124,
   "id": "cbfb10e2-a434-4eb1-a35b-3e7ab8a31558",
   "metadata": {},
   "outputs": [
    {
     "name": "stdout",
     "output_type": "stream",
     "text": [
      "[  40 1527   12  134   63  135   18   44  210   74]\n",
      "272.63449881548144 0\n",
      "[  58 1304   14  178   87  178   25   50  275   88]\n",
      "593.0613653736582 1\n",
      "[  56 1238   16  211  100  176   34   52  285   89]\n",
      "605.7832410617493 2\n",
      "[  56 1198   19  233  105  175   37   55  282   97]\n",
      "611.8963688642792 3\n",
      "[  56 1173   19  248  114  176   37   58  277   99]\n",
      "614.8506631560429 4\n",
      "[  57 1158   20  259  115  180   37   57  273  101]\n",
      "616.3003527325902 5\n",
      "[  57 1150   21  263  118  181   37   55  275  100]\n",
      "616.9554407693678 6\n",
      "[  57 1144   22  265  119  181   37   54  278  100]\n",
      "617.4812456593104 7\n",
      "[  57 1139   22  267  120  181   37   55  279  100]\n",
      "617.7119931144277 8\n",
      "[  57 1139   22  266  122  181   37   55  278  100]\n",
      "617.8938594699569 9\n",
      "[  57 1137   22  267  123  181   37   55  278  100]\n",
      "618.011678905589 10\n",
      "[  57 1137   22  267  123  181   37   55  278  100]\n",
      "618.0851380775289 11\n",
      "[  57 1137   22  267  123  181   37   55  278  100]\n",
      "618.0851380775289 12\n",
      "################# Execution Successful #########################\n",
      "3 0.8246 0.3201\n",
      "4 0.2243 0.9497\n",
      "5 0.6364 0.595\n",
      "1 0.3596 0.8707\n",
      "1 0.7398 0.4526\n",
      "5 0.9669 0.0652\n",
      "4 0.8919 0.2045\n",
      "5 0.6182 0.6179\n",
      "2 0.2878 0.9172\n",
      "1 0.33 0.8911\n",
      "################# Evaluation Successful #########################\n"
     ]
    }
   ],
   "source": [
    "#Half k = 10\n",
    "k_means_20ng(10, X_test)"
   ]
  },
  {
   "cell_type": "code",
   "execution_count": 125,
   "id": "08f8fa97-1ca9-46df-8218-20b2ff890e62",
   "metadata": {},
   "outputs": [
    {
     "name": "stdout",
     "output_type": "stream",
     "text": [
      "[ 10  16  39  23  29 204  11  24  19  62  14  51  13  26  34  28 161  44\n",
      " 288  15 130  16  45  11  14  16  14  16  18  73   7   8 112  36  18   9\n",
      "  20  43 444  96]\n",
      "369.9879523040123 0\n",
      "[ 13  16  40  25  32 214  14  30  22  79  16  61  13  26  36  32 168  48\n",
      " 261  18 137  17  48  16  18  18  15  19  23  78   9  10 120  36  25  10\n",
      "  24  42 342  86]\n",
      "710.1257677297797 1\n",
      "[ 19  17  42  25  34 248  14  32  25  66  16  53  14  33  34  36 168  49\n",
      " 247  18 130  18  47  20  18  18  16  21  32  78  11  12 114  39  29  12\n",
      "  26  41 309  76]\n",
      "733.2182175398782 2\n",
      "[ 20  17  40  27  35 279  14  31  24  52  16  52  14  38  33  36 164  47\n",
      " 237  18 128  18  46  21  20  19  16  21  34  82  12  13 115  40  29  12\n",
      "  26  40 299  72]\n",
      "745.5027838955607 3\n",
      "[ 19  17  40  27  36 293  14  31  24  50  16  52  14  41  34  36 161  47\n",
      " 229  18 127  19  44  20  21  19  16  21  34  85  13  13 119  42  29  11\n",
      "  26  40 291  68]\n",
      "751.364376071883 4\n",
      "[ 19  17  40  26  36 307  14  31  24  49  16  52  14  38  34  36 160  47\n",
      " 229  18 128  19  44  19  21  19  16  22  34  88  13  13 120  42  29  11\n",
      "  26  40 282  64]\n",
      "753.5803469069698 5\n",
      "[ 19  17  40  26  36 314  14  31  24  49  16  52  14  37  35  36 161  47\n",
      " 229  18 128  19  44  19  21  19  16  22  34  88  13  13 120  42  29  11\n",
      "  26  40 277  61]\n",
      "754.4387207331097 6\n",
      "[ 19  17  40  26  36 323  14  31  24  49  16  52  14  37  35  36 161  47\n",
      " 228  18 127  19  44  19  21  19  16  22  34  88  13  13 120  42  29  11\n",
      "  26  40 271  60]\n",
      "754.7339700574046 7\n",
      "[ 19  17  40  26  36 325  14  31  24  48  16  52  14  37  35  36 160  47\n",
      " 227  18 127  19  44  19  21  19  16  22  34  89  13  13 120  42  29  11\n",
      "  26  40 270  61]\n",
      "754.9213861032893 8\n",
      "[ 19  17  40  26  36 328  14  31  24  47  16  52  14  37  35  36 159  47\n",
      " 227  18 127  19  44  19  21  19  16  22  34  89  13  13 120  42  29  11\n",
      "  26  40 269  61]\n",
      "755.0697069068957 9\n",
      "[ 19  17  40  26  36 329  14  31  24  47  16  52  14  37  35  36 159  47\n",
      " 229  18 127  19  44  19  21  19  16  22  34  89  13  13 120  42  29  11\n",
      "  26  40 266  61]\n",
      "755.1392733735329 10\n",
      "################# Execution Successful #########################\n",
      "4 0.6316 0.6011\n",
      "0 0.3529 0.8754\n",
      "2 0.775 0.3994\n",
      "1 0.7308 0.466\n",
      "1 0.8889 0.2099\n",
      "4 0.2584 0.9333\n",
      "1 1.0 0.0\n",
      "4 0.4516 0.796\n",
      "4 0.9583 0.0816\n",
      "3 0.7021 0.507\n",
      "1 0.625 0.6094\n",
      "5 0.6923 0.5207\n",
      "3 0.8571 0.2653\n",
      "0 0.7027 0.5062\n",
      "5 0.5429 0.7053\n",
      "4 0.6667 0.5556\n",
      "2 0.5094 0.7405\n",
      "0 0.8298 0.3115\n",
      "5 0.8166 0.3332\n",
      "3 0.7222 0.4784\n",
      "4 0.8031 0.355\n",
      "2 0.3684 0.8643\n",
      "0 0.4545 0.7934\n",
      "2 0.7368 0.4571\n",
      "4 0.8571 0.2653\n",
      "0 0.9474 0.1025\n",
      "1 0.5 0.75\n",
      "4 0.4545 0.7934\n",
      "3 0.7059 0.5017\n",
      "0 0.427 0.8177\n",
      "4 0.6923 0.5207\n",
      "4 0.8462 0.284\n",
      "1 0.5667 0.6789\n",
      "1 0.5714 0.6735\n",
      "3 0.6552 0.5707\n",
      "2 0.4545 0.7934\n",
      "1 0.5 0.75\n",
      "3 0.7 0.51\n",
      "2 0.6579 0.5672\n",
      "0 0.5082 0.7417\n",
      "################# Evaluation Successful #########################\n"
     ]
    }
   ],
   "source": [
    "#Doubled k = 40\n",
    "k_means_20ng(40, X_test)"
   ]
  },
  {
   "cell_type": "code",
   "execution_count": 92,
   "id": "aa7f35a8-ded8-4517-9c52-8a3b3978d7e4",
   "metadata": {},
   "outputs": [],
   "source": [
    "# ###Running the entire algorithm iteratively 5-7 times and printing the sum of euclidean square matrix, as our objective\n",
    "# ###function is to minimize the sum of euclidean distances\n",
    "# from sklearn.metrics import pairwise_distances\n",
    "\n",
    "# k = 20\n",
    "# random_indices = np.random.choice(X_test.shape[0], k, replace = False)\n",
    "# init_means = X_test[random_indices]\n",
    "# prev_dist = 0\n",
    "# for iteration in range(100):\n",
    "#     ## E step\n",
    "#     # dist_matrix = np.square(pairwise_distances(X_test,init_means))\n",
    "#     dist_matrix = cosine_similarity(X_test, init_means)\n",
    "#     obj_fun = np.sum(dist_matrix)\n",
    "#     print(obj_fun, iteration)\n",
    "    \n",
    "#     min_dist = np.max(dist_matrix, axis = 1)\n",
    "#     pi_matrix = np.where(dist_matrix == min_dist[:,np.newaxis], 1, 0)\n",
    "\n",
    "#     #Number of values in each cluster\n",
    "#     print(np.sum(pi_matrix, axis = 0))\n",
    "\n",
    "#     ## M step\n",
    "#     pi_df = pd.DataFrame(pi_matrix)\n",
    "#     new_init_means = []\n",
    "#     clusters = []\n",
    "#     for col in pi_df.columns:\n",
    "#         new_init_means.append(np.average(X_test[np.array(pi_df[pi_df[col]==1].index)].toarray(), axis=0))\n",
    "#         clusters.append(y_test[np.array(pi_df[pi_df[col]==1].index)])\n",
    "#     init_means = np.array(new_init_means)\n",
    "#     clusters = np.array(clusters, dtype = object)\n",
    "    \n",
    "#     #Termination Criteria\n",
    "#     if abs(prev_dist - obj_fun)/obj_fun < 0.0001:\n",
    "#         break\n",
    "#     prev_dist = obj_fun"
   ]
  },
  {
   "cell_type": "code",
   "execution_count": 93,
   "id": "27da6a9a-3114-4551-bba5-a29b490b82f5",
   "metadata": {},
   "outputs": [],
   "source": [
    "# from statistics import mode\n",
    "# for i in range(k):\n",
    "#     true_label = mode(clusters[i])\n",
    "#     purity = np.count_nonzero(clusters[i]==true_label)/clusters[i].shape[0]\n",
    "#     gini = 1 - purity**2\n",
    "#     print(true_label, round(purity,4), round(gini,4))\n",
    "#     # print(mode(clusters[i]))\n",
    "#     # print(np.unique(clusters[i], return_counts = True))"
   ]
  },
  {
   "cell_type": "code",
   "execution_count": null,
   "id": "fe8aa4b7-6f0c-42d0-b612-cb88a521adc1",
   "metadata": {},
   "outputs": [],
   "source": []
  },
  {
   "cell_type": "code",
   "execution_count": null,
   "id": "5cf61165-9e7d-4422-abaa-eb666708058d",
   "metadata": {},
   "outputs": [],
   "source": []
  }
 ],
 "metadata": {
  "kernelspec": {
   "display_name": "Python 3 (ipykernel)",
   "language": "python",
   "name": "python3"
  },
  "language_info": {
   "codemirror_mode": {
    "name": "ipython",
    "version": 3
   },
   "file_extension": ".py",
   "mimetype": "text/x-python",
   "name": "python",
   "nbconvert_exporter": "python",
   "pygments_lexer": "ipython3",
   "version": "3.9.6"
  }
 },
 "nbformat": 4,
 "nbformat_minor": 5
}
