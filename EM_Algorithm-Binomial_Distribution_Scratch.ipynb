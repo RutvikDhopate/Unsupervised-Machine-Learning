{
 "cells": [
  {
   "cell_type": "code",
   "execution_count": 1,
   "id": "b2179071-f6fd-46a7-8a8b-b9f142076643",
   "metadata": {},
   "outputs": [],
   "source": [
    "import pandas as pd\n",
    "import numpy as np\n",
    "from tqdm import tqdm"
   ]
  },
  {
   "cell_type": "code",
   "execution_count": 2,
   "id": "05d7eb93-2ed3-49b7-842c-002f1bfb93a1",
   "metadata": {},
   "outputs": [],
   "source": [
    "import random"
   ]
  },
  {
   "cell_type": "code",
   "execution_count": 3,
   "id": "1c1e48da-e34b-495f-bd6d-0c12ff188913",
   "metadata": {},
   "outputs": [],
   "source": [
    "# Define some random probabilities to select coins"
   ]
  },
  {
   "cell_type": "code",
   "execution_count": 4,
   "id": "564685d9-a59e-4114-b130-e734a8ad6103",
   "metadata": {},
   "outputs": [],
   "source": [
    "coins = ['a','b','c']\n",
    "probs  = [0.23,0.34,0.43]"
   ]
  },
  {
   "cell_type": "code",
   "execution_count": 5,
   "id": "981378ce-a50c-4e3c-a296-ead682d607c7",
   "metadata": {},
   "outputs": [
    {
     "data": {
      "text/plain": [
       "'c'"
      ]
     },
     "execution_count": 5,
     "metadata": {},
     "output_type": "execute_result"
    }
   ],
   "source": [
    "random.choices(coins,probs)[0]"
   ]
  },
  {
   "cell_type": "code",
   "execution_count": 6,
   "id": "0c268c87-01d7-48e8-95a2-43ebee2d4882",
   "metadata": {},
   "outputs": [],
   "source": [
    "# Define the probability of heads for each of the three coins"
   ]
  },
  {
   "cell_type": "code",
   "execution_count": 7,
   "id": "544eca3f-0943-40a3-8cb4-f6f245d87043",
   "metadata": {},
   "outputs": [],
   "source": [
    "p_a, p_b, p_c = 0.5, 0.2, 0.3"
   ]
  },
  {
   "cell_type": "code",
   "execution_count": 3,
   "id": "df627a46-0988-4977-be97-c6b69b76ff99",
   "metadata": {},
   "outputs": [],
   "source": [
    "from scipy.stats import binom"
   ]
  },
  {
   "cell_type": "code",
   "execution_count": 9,
   "id": "47de1225-5ea6-4bb2-a6ca-7ece577dc045",
   "metadata": {},
   "outputs": [
    {
     "data": {
      "text/plain": [
       "1"
      ]
     },
     "execution_count": 9,
     "metadata": {},
     "output_type": "execute_result"
    }
   ],
   "source": [
    "binom.rvs(1,p_a)"
   ]
  },
  {
   "cell_type": "code",
   "execution_count": 10,
   "id": "e27dd75a-0d83-4718-baab-6b37e318be48",
   "metadata": {},
   "outputs": [],
   "source": [
    "# Generate data for randomly selecting a coin 50 times, and each time a coin is selected, draw 20 binomial samples for that coin's prob"
   ]
  },
  {
   "cell_type": "code",
   "execution_count": 11,
   "id": "412c8074-4412-4ad1-8293-4d6da5717605",
   "metadata": {},
   "outputs": [],
   "source": [
    "data = []\n",
    "for n in range(50):\n",
    "    selected_coin = random.choices(coins,probs)[0]\n",
    "    \n",
    "    if selected_coin == 'a':\n",
    "        prob = p_a\n",
    "    elif selected_coin == 'b':\n",
    "        prob = p_b\n",
    "    else:\n",
    "        prob = p_c\n",
    "        \n",
    "    for d in range(20):\n",
    "        data.append(binom.rvs(1,prob))"
   ]
  },
  {
   "cell_type": "code",
   "execution_count": 12,
   "id": "b81fe093-6777-43aa-816d-90acab81f6b9",
   "metadata": {},
   "outputs": [],
   "source": [
    "data = np.array(data).reshape(50,20)"
   ]
  },
  {
   "cell_type": "code",
   "execution_count": null,
   "id": "448b2c6f-60e6-4349-be6c-381d01a49953",
   "metadata": {},
   "outputs": [],
   "source": []
  },
  {
   "cell_type": "code",
   "execution_count": 13,
   "id": "81f1d0e3-2cdf-4e19-b45e-094aca470826",
   "metadata": {},
   "outputs": [],
   "source": [
    "### EM Algorithm"
   ]
  },
  {
   "cell_type": "code",
   "execution_count": 7,
   "id": "0f5a4055-ac0c-4e6d-8dd2-2565ca3cc059",
   "metadata": {},
   "outputs": [],
   "source": [
    "def generate_random_probs(num):\n",
    "    weights = np.random.random(num)\n",
    "    weights = weights/sum(weights)\n",
    "    return weights[0], weights[1], weights[2]"
   ]
  },
  {
   "cell_type": "code",
   "execution_count": 154,
   "id": "e7c1820a-4899-4013-acb7-0a01c98087bd",
   "metadata": {},
   "outputs": [],
   "source": [
    "pi_1, pi_2, pi_3 = generate_random_probs(3)\n",
    "q_1, q_2, q_3 = generate_random_probs(3)"
   ]
  },
  {
   "cell_type": "code",
   "execution_count": 83,
   "id": "c3b28cc5-a63e-4795-b2c8-e57c37b95b2c",
   "metadata": {},
   "outputs": [
    {
     "data": {
      "text/plain": [
       "11"
      ]
     },
     "execution_count": 83,
     "metadata": {},
     "output_type": "execute_result"
    }
   ],
   "source": [
    "np.unique(data[0],return_counts=True)[1][1]"
   ]
  },
  {
   "cell_type": "code",
   "execution_count": 87,
   "id": "905541d6-f223-47c7-9cc7-d1b884982b92",
   "metadata": {},
   "outputs": [],
   "source": [
    "#Getting number of heads in each row in the data"
   ]
  },
  {
   "cell_type": "code",
   "execution_count": 155,
   "id": "b26d12e2-861d-413c-a266-eb03144d7b6d",
   "metadata": {},
   "outputs": [],
   "source": [
    "y_k = []\n",
    "for i in range(data.shape[0]):\n",
    "    y_k.append(np.unique(data[i],return_counts=True)[1][1])"
   ]
  },
  {
   "cell_type": "code",
   "execution_count": 156,
   "id": "0e7a5bab-5250-4e96-b69b-19ce530f702f",
   "metadata": {},
   "outputs": [],
   "source": [
    "y_k = np.array(y_k)"
   ]
  },
  {
   "cell_type": "code",
   "execution_count": 157,
   "id": "b59bcff4-5a6e-4cc7-99c8-4198456d99d6",
   "metadata": {},
   "outputs": [],
   "source": [
    "prob_1 = binom.pmf(y_k, data.shape[1], q_1)\n",
    "prob_2 = binom.pmf(y_k, data.shape[1], q_2)\n",
    "prob_3 = binom.pmf(y_k, data.shape[1], q_3)"
   ]
  },
  {
   "cell_type": "code",
   "execution_count": 158,
   "id": "9da47f65-5a11-4480-bd0a-62fc241fa846",
   "metadata": {},
   "outputs": [],
   "source": [
    "pos_prob_1 = pi_1*prob_1/(pi_1*prob_1+pi_2*prob_2+pi_3*prob_3)\n",
    "pos_prob_2 = pi_2*prob_2/(pi_1*prob_1+pi_2*prob_2+pi_3*prob_3)\n",
    "pos_prob_3 = pi_3*prob_3/(pi_1*prob_1+pi_2*prob_2+pi_3*prob_3)"
   ]
  },
  {
   "cell_type": "code",
   "execution_count": 159,
   "id": "66332874-0917-4910-9d88-9be4f3e85435",
   "metadata": {},
   "outputs": [],
   "source": [
    "pos_prob_arrays = np.column_stack((pos_prob_1, pos_prob_2, pos_prob_3))\n",
    "idx = np.argmax(pos_prob_arrays, axis = 1)\n",
    "temp_arrays = np.zeros_like(pos_prob_arrays)\n",
    "temp_arrays[np.arange(pos_prob_arrays.shape[0]),idx] = 1"
   ]
  },
  {
   "cell_type": "code",
   "execution_count": 160,
   "id": "c36e4023-b2ea-41fa-b3b8-d323d6bb1085",
   "metadata": {},
   "outputs": [],
   "source": [
    "z_k = temp_arrays.astype(int)"
   ]
  },
  {
   "cell_type": "code",
   "execution_count": 161,
   "id": "abce5e6f-23af-4b1c-b8ec-e32842a2e96e",
   "metadata": {},
   "outputs": [],
   "source": [
    "pi_k = np.sum(z_k*pos_prob_arrays,axis=0)/data.shape[0]\n",
    "pi_1, pi_2, pi_3 = pi_k[0], pi_k[1], pi_k[2] "
   ]
  },
  {
   "cell_type": "code",
   "execution_count": 162,
   "id": "2c21b6f6-b962-4783-9fb4-cfd71dbeb1cf",
   "metadata": {},
   "outputs": [
    {
     "data": {
      "text/plain": [
       "array([[11,  0,  0, 11,  0,  0,  0,  0, 11,  0,  0, 11,  0,  0, 13,  0,\n",
       "         0,  0,  0,  0,  0,  0,  0,  0,  0,  0,  0,  0,  0, 11,  0,  0,\n",
       "         0,  0,  0,  0,  0,  0,  0,  0,  0,  0,  0,  0,  0,  0, 11, 13,\n",
       "         0,  0],\n",
       "       [ 0,  6,  8,  0,  5,  7,  4,  0,  0,  7,  6,  0,  4,  5,  0,  5,\n",
       "         4,  4,  6,  7,  6, 10, 10,  4,  7,  7,  8,  4, 10,  0,  6,  6,\n",
       "        10,  7,  5,  6, 10,  0,  4,  8,  7,  6,  6,  4,  4,  0,  0,  0,\n",
       "         0, 10],\n",
       "       [ 0,  0,  0,  0,  0,  0,  0,  3,  0,  0,  0,  0,  0,  0,  0,  0,\n",
       "         0,  0,  0,  0,  0,  0,  0,  0,  0,  0,  0,  0,  0,  0,  0,  0,\n",
       "         0,  0,  0,  0,  0,  3,  0,  0,  0,  0,  0,  0,  0,  2,  0,  0,\n",
       "         2,  0]])"
      ]
     },
     "execution_count": 162,
     "metadata": {},
     "output_type": "execute_result"
    }
   ],
   "source": [
    "y_k*z_k.T"
   ]
  },
  {
   "cell_type": "code",
   "execution_count": 163,
   "id": "622b8ac4-faf8-4b12-9936-0f121bc5a416",
   "metadata": {},
   "outputs": [
    {
     "data": {
      "text/plain": [
       "92"
      ]
     },
     "execution_count": 163,
     "metadata": {},
     "output_type": "execute_result"
    }
   ],
   "source": [
    "np.dot(z_k[:,0],y_k)"
   ]
  },
  {
   "cell_type": "code",
   "execution_count": 169,
   "id": "f4f45dbe-4d3b-4477-99d9-81671b8b9928",
   "metadata": {},
   "outputs": [
    {
     "data": {
      "text/plain": [
       "1000"
      ]
     },
     "execution_count": 169,
     "metadata": {},
     "output_type": "execute_result"
    }
   ],
   "source": [
    "sum(z_k[:,0]*data.shape[1])"
   ]
  },
  {
   "cell_type": "code",
   "execution_count": null,
   "id": "4b64932f-42b3-4ce8-abb0-a68fa2e3f20d",
   "metadata": {},
   "outputs": [],
   "source": []
  },
  {
   "cell_type": "code",
   "execution_count": 139,
   "id": "f337e3e5-6444-46f7-a9ee-ec6cd0a885c5",
   "metadata": {},
   "outputs": [],
   "source": [
    "q_1 = np.dot(z_k[:,0],y_k)/sum(z_k[:,0]*data.shape[1])\n",
    "q_2 = np.dot(z_k[:,1],y_k)/sum(z_k[:,1]*data.shape[1])\n",
    "q_3 = np.dot(z_k[:,2],y_k)/sum(z_k[:,2]*data.shape[1])"
   ]
  },
  {
   "cell_type": "code",
   "execution_count": 15,
   "id": "95aefa85-5f2f-455f-b485-4a16d905b6a7",
   "metadata": {},
   "outputs": [],
   "source": [
    "###### Compiling both steps together"
   ]
  },
  {
   "cell_type": "code",
   "execution_count": 9,
   "id": "fc237c33-5718-48d5-bfa2-22d656f225cc",
   "metadata": {},
   "outputs": [],
   "source": [
    "coins = ['a','b','c']\n",
    "probs  = [0.23,0.34,0.43]\n",
    "\n",
    "p_a, p_b, p_c = 0.5, 0.2, 0.3\n",
    "\n",
    "data = []\n",
    "for n in range(50):\n",
    "    selected_coin = random.choices(coins,probs)[0]\n",
    "    \n",
    "    if selected_coin == 'a':\n",
    "        prob = p_a\n",
    "    elif selected_coin == 'b':\n",
    "        prob = p_b\n",
    "    else:\n",
    "        prob = p_c\n",
    "        \n",
    "    for d in range(20):\n",
    "        data.append(binom.rvs(1,prob))\n",
    "\n",
    "data = np.array(data).reshape(50,20)"
   ]
  },
  {
   "cell_type": "code",
   "execution_count": 13,
   "id": "d049bb14-d53f-4c66-91e4-684318d8a70d",
   "metadata": {},
   "outputs": [
    {
     "data": {
      "text/plain": [
       "'/Users/rutvikdhopate/Downloads/Jupyter_Files/USML/Assignment_2'"
      ]
     },
     "execution_count": 13,
     "metadata": {},
     "output_type": "execute_result"
    }
   ],
   "source": [
    "pwd"
   ]
  },
  {
   "cell_type": "code",
   "execution_count": 22,
   "id": "2d072daf-3fd5-4675-8ccd-9efebb7db0e7",
   "metadata": {},
   "outputs": [],
   "source": [
    "######## Trying with the given problem set ###########"
   ]
  },
  {
   "cell_type": "code",
   "execution_count": 14,
   "id": "d1a56bf9-17a5-413a-a669-67650eb9d8d2",
   "metadata": {},
   "outputs": [],
   "source": [
    "data = np.loadtxt('/Users/rutvikdhopate/Downloads/usml_a2_q4.txt')\n"
   ]
  },
  {
   "cell_type": "code",
   "execution_count": 17,
   "id": "3e892dee-7707-441f-8786-8351df667696",
   "metadata": {},
   "outputs": [],
   "source": [
    "data = data.astype(int)"
   ]
  },
  {
   "cell_type": "code",
   "execution_count": 21,
   "id": "854b2835-1208-4b00-9d3d-de0934bc2c0a",
   "metadata": {},
   "outputs": [
    {
     "name": "stdout",
     "output_type": "stream",
     "text": [
      "0.616589374649256 0.35680607904450923 0.026604546306234832\n",
      "0.22687911340543 0.3950929714120413 0.37802791518252876\n",
      "Above are randomly initialised weights and heads probabilities\n",
      "500\n",
      "p_a:  0.3068139824887879 p_b:  0.17855767772922998 p_c: 0.5146283397819823\n",
      "bias_a:  0.23691866848935972 bias_b:  0.9317285332315954 bias_c:  0.6100378318845446\n",
      "1.0000000000000002\n",
      "1.7786850336054996\n"
     ]
    }
   ],
   "source": [
    "pi_1, pi_2, pi_3 = generate_random_probs(3)\n",
    "q_1, q_2, q_3 = generate_random_probs(3)\n",
    "print(pi_1,pi_2,pi_3)\n",
    "print(q_1,q_2,q_3)\n",
    "\n",
    "print(\"Above are randomly initialised weights and heads probabilities\")\n",
    "\n",
    "# print(\"Probabilities Generated Randomly Successfully\")\n",
    "# # y_k = []\n",
    "# # for i in range(data.shape[0]):\n",
    "# #     y_k.append(np.unique(data[i],return_counts=True)[1][1])\n",
    "\n",
    "# # print(\"Number of Heads in each row calculated successfully\")\n",
    "# # y_k = np.array(y_k)\n",
    "\n",
    "for iteration in range(500):\n",
    "\n",
    "    y_k = []\n",
    "    for i in range(data.shape[0]):\n",
    "        y_k.append(np.unique(data[i],return_counts=True)[1][1])\n",
    "\n",
    "    y_k = np.array(y_k)\n",
    "    # E-Step\n",
    "    \n",
    "    prob_1 = binom.pmf(y_k, data.shape[1], q_1)\n",
    "    prob_2 = binom.pmf(y_k, data.shape[1], q_2)\n",
    "    prob_3 = binom.pmf(y_k, data.shape[1], q_3)\n",
    "\n",
    "    pos_prob_1 = pi_1*prob_1/(pi_1*prob_1+pi_2*prob_2+pi_3*prob_3)\n",
    "    pos_prob_2 = pi_2*prob_2/(pi_1*prob_1+pi_2*prob_2+pi_3*prob_3)\n",
    "    pos_prob_3 = pi_3*prob_3/(pi_1*prob_1+pi_2*prob_2+pi_3*prob_3)\n",
    "\n",
    "    # pos_prob_arrays = np.column_stack((pos_prob_1, pos_prob_2, pos_prob_3))\n",
    "    # idx = np.argmax(pos_prob_arrays, axis = 1)\n",
    "    # temp_arrays = np.zeros_like(pos_prob_arrays)\n",
    "    # temp_arrays[np.arange(pos_prob_arrays.shape[0]),idx] = 1\n",
    "\n",
    "    # z_k = temp_arrays.astype(int)\n",
    "\n",
    "    # M-Step\n",
    "\n",
    "    # pi_k = np.sum(z_k*pos_prob_arrays,axis=0)/data.shape[0]\n",
    "    # pi_1, pi_2, pi_3 = pi_k[0], pi_k[1], pi_k[2]\n",
    "    pi_1 = sum(pos_prob_1)/data.shape[0]\n",
    "    pi_2 = sum(pos_prob_2)/data.shape[0]\n",
    "    pi_3 = sum(pos_prob_3)/data.shape[0]\n",
    "\n",
    "    q_1 = np.dot(pos_prob_1,y_k)/sum(pos_prob_1*data.shape[1])\n",
    "    q_2 = np.dot(pos_prob_2,y_k)/sum(pos_prob_2*data.shape[1])\n",
    "    q_3 = np.dot(pos_prob_3,y_k)/sum(pos_prob_3*data.shape[1])\n",
    "\n",
    "    iteration+=1\n",
    "    # print(pi_1,pi_2,pi_3)\n",
    "    # print(q_1,q_2,q_3)\n",
    "    # print(\"###############################\")\n",
    "    # print(sum((pos_prob_1,pos_prob_2,pos_prob_3)))\n",
    "    \n",
    "print(iteration)\n",
    "print(\"p_a: \", pi_1, \"p_b: \", pi_2, \"p_c:\", pi_3)\n",
    "print(\"bias_a: \", q_1, \"bias_b: \", q_2, \"bias_c: \", q_3)\n",
    "print(pi_1+pi_2+pi_3)\n",
    "print(q_1+q_2+q_3)"
   ]
  },
  {
   "cell_type": "code",
   "execution_count": null,
   "id": "b31f1d8c-d478-4f2b-92ac-1e7a0668694e",
   "metadata": {},
   "outputs": [],
   "source": []
  },
  {
   "cell_type": "code",
   "execution_count": null,
   "id": "88776eeb-cf25-4007-a731-358c365b17e5",
   "metadata": {},
   "outputs": [],
   "source": []
  },
  {
   "cell_type": "code",
   "execution_count": null,
   "id": "22f7d394-f358-4965-ae5a-010de1c359ea",
   "metadata": {},
   "outputs": [],
   "source": []
  },
  {
   "cell_type": "code",
   "execution_count": null,
   "id": "404a76bf-cad1-4403-a894-e863ce6b2bdc",
   "metadata": {},
   "outputs": [],
   "source": []
  },
  {
   "cell_type": "code",
   "execution_count": null,
   "id": "8779726c-15d3-49e4-b0c1-f62564f68461",
   "metadata": {},
   "outputs": [],
   "source": []
  },
  {
   "cell_type": "code",
   "execution_count": null,
   "id": "3671fdbc-edd5-4ed4-b91e-df9b32f8bb53",
   "metadata": {},
   "outputs": [],
   "source": []
  },
  {
   "cell_type": "code",
   "execution_count": null,
   "id": "5d19e991-afad-4c6c-acf2-e20797e09827",
   "metadata": {},
   "outputs": [],
   "source": []
  },
  {
   "cell_type": "code",
   "execution_count": null,
   "id": "2f5e149c-0696-45ec-ac19-3ac86ffb2898",
   "metadata": {},
   "outputs": [],
   "source": []
  },
  {
   "cell_type": "code",
   "execution_count": null,
   "id": "5142a0e1-800c-4595-aea9-3dafd823aac2",
   "metadata": {},
   "outputs": [],
   "source": []
  }
 ],
 "metadata": {
  "kernelspec": {
   "display_name": "Python 3 (ipykernel)",
   "language": "python",
   "name": "python3"
  },
  "language_info": {
   "codemirror_mode": {
    "name": "ipython",
    "version": 3
   },
   "file_extension": ".py",
   "mimetype": "text/x-python",
   "name": "python",
   "nbconvert_exporter": "python",
   "pygments_lexer": "ipython3",
   "version": "3.9.6"
  }
 },
 "nbformat": 4,
 "nbformat_minor": 5
}
