{
 "cells": [
  {
   "cell_type": "code",
   "execution_count": 2,
   "id": "d03846d9-9565-4f3d-92f8-bc92c75907d9",
   "metadata": {},
   "outputs": [],
   "source": [
    "import pandas as pd\n",
    "import numpy as np\n",
    "from tqdm import tqdm"
   ]
  },
  {
   "cell_type": "code",
   "execution_count": 3,
   "id": "ca728116-0f8d-49ab-8390-bdad446c4593",
   "metadata": {},
   "outputs": [],
   "source": [
    "data = pd.read_csv('/Users/rutvikdhopate/Downloads/2gaussian.txt', delimiter = '\\t', header = None)"
   ]
  },
  {
   "cell_type": "code",
   "execution_count": 4,
   "id": "3ee5a522-28d4-41f8-8701-254dac6414d3",
   "metadata": {},
   "outputs": [],
   "source": [
    "x, y = [], []\n",
    "with open('/Users/rutvikdhopate/Downloads/2gaussian.txt') as file:\n",
    "    for line in file:\n",
    "        x.append(line.split(' ')[0])\n",
    "        y.append(line.split(' ')[1][:-2])"
   ]
  },
  {
   "cell_type": "code",
   "execution_count": 5,
   "id": "2a74f2b0-eb07-43bd-a0d7-1a3b159adc86",
   "metadata": {},
   "outputs": [],
   "source": [
    "x = np.array(x).astype(np.float64)\n",
    "y = np.array(y).astype(np.float64)"
   ]
  },
  {
   "cell_type": "code",
   "execution_count": 6,
   "id": "2826fce2-4aad-4909-80cb-fd37837dc8e3",
   "metadata": {},
   "outputs": [],
   "source": [
    "data = pd.DataFrame(columns = [\"x\",\"y\"])"
   ]
  },
  {
   "cell_type": "code",
   "execution_count": 7,
   "id": "5891736c-6862-4412-aeb8-e66eb8cfe093",
   "metadata": {},
   "outputs": [],
   "source": [
    "data[\"x\"] = x\n",
    "data[\"y\"] = y"
   ]
  },
  {
   "cell_type": "code",
   "execution_count": 8,
   "id": "916d9ba5-9fd4-4146-bc65-e04510e688ba",
   "metadata": {},
   "outputs": [],
   "source": [
    "data = data.values"
   ]
  },
  {
   "cell_type": "code",
   "execution_count": 33,
   "id": "922f39e7-f6c1-4cae-b6fc-14c9ed2169e4",
   "metadata": {},
   "outputs": [],
   "source": [
    "#Set some random parameter values \n",
    "mu1,mu2 = np.random.random(2), np.random.random(2)\n",
    "sigma1, sigma2 = [[-1,0],[0,-1]], [[4,2],[2,2]]\n",
    "w1 = np.random.random()\n",
    "w2 = 1-w1"
   ]
  },
  {
   "cell_type": "code",
   "execution_count": 8,
   "id": "ab7bdd21-687a-4139-a383-ba084fc1500c",
   "metadata": {},
   "outputs": [],
   "source": [
    "from scipy.stats import multivariate_normal"
   ]
  },
  {
   "cell_type": "code",
   "execution_count": 53,
   "id": "f4cf1947-e568-4863-92da-0fd640a366a8",
   "metadata": {},
   "outputs": [],
   "source": [
    "mv1 = multivariate_normal(mu1, sigma1)\n",
    "mv2 = multivariate_normal(mu2, sigma2)"
   ]
  },
  {
   "cell_type": "code",
   "execution_count": 88,
   "id": "8d27b436-cb83-4c89-80da-37089c236b03",
   "metadata": {},
   "outputs": [],
   "source": [
    "prob_1 = w1*mv1.pdf(data)"
   ]
  },
  {
   "cell_type": "code",
   "execution_count": 90,
   "id": "bcfb2cc2-94e0-46d8-a592-65324a6c7415",
   "metadata": {},
   "outputs": [],
   "source": [
    "prob_2 = w2*mv2.pdf(data)"
   ]
  },
  {
   "cell_type": "code",
   "execution_count": 103,
   "id": "3f175b93-f092-45d1-99e4-52afd747e844",
   "metadata": {},
   "outputs": [
    {
     "data": {
      "text/plain": [
       "(917,)"
      ]
     },
     "execution_count": 103,
     "metadata": {},
     "output_type": "execute_result"
    }
   ],
   "source": [
    "np.where(prob_1>prob_2)[0].shape"
   ]
  },
  {
   "cell_type": "code",
   "execution_count": 107,
   "id": "2fe96862-82b4-4f11-82c5-f13b0fcdf6c3",
   "metadata": {},
   "outputs": [
    {
     "data": {
      "text/plain": [
       "array([0, 0, 1, ..., 0, 0, 0])"
      ]
     },
     "execution_count": 107,
     "metadata": {},
     "output_type": "execute_result"
    }
   ],
   "source": [
    "np.where(prob_1>prob_2, 1,0)"
   ]
  },
  {
   "cell_type": "code",
   "execution_count": 109,
   "id": "9caca3ed-6e81-459c-80ff-334cceb31a4c",
   "metadata": {},
   "outputs": [],
   "source": [
    "pi_df = pd.DataFrame(columns = [\"n1\",\"n2\"])\n",
    "pi_df[\"n1\"] = np.where(prob_1>prob_2, 1,0)\n",
    "pi_df[\"n2\"] = np.where(prob_1<prob_2, 1,0)"
   ]
  },
  {
   "cell_type": "code",
   "execution_count": 110,
   "id": "2ed1675f-a36b-469a-89d4-693b1ef8e526",
   "metadata": {},
   "outputs": [
    {
     "data": {
      "text/html": [
       "<div>\n",
       "<style scoped>\n",
       "    .dataframe tbody tr th:only-of-type {\n",
       "        vertical-align: middle;\n",
       "    }\n",
       "\n",
       "    .dataframe tbody tr th {\n",
       "        vertical-align: top;\n",
       "    }\n",
       "\n",
       "    .dataframe thead th {\n",
       "        text-align: right;\n",
       "    }\n",
       "</style>\n",
       "<table border=\"1\" class=\"dataframe\">\n",
       "  <thead>\n",
       "    <tr style=\"text-align: right;\">\n",
       "      <th></th>\n",
       "      <th>n1</th>\n",
       "      <th>n2</th>\n",
       "    </tr>\n",
       "  </thead>\n",
       "  <tbody>\n",
       "    <tr>\n",
       "      <th>0</th>\n",
       "      <td>0</td>\n",
       "      <td>1</td>\n",
       "    </tr>\n",
       "    <tr>\n",
       "      <th>1</th>\n",
       "      <td>0</td>\n",
       "      <td>1</td>\n",
       "    </tr>\n",
       "    <tr>\n",
       "      <th>2</th>\n",
       "      <td>1</td>\n",
       "      <td>0</td>\n",
       "    </tr>\n",
       "    <tr>\n",
       "      <th>3</th>\n",
       "      <td>0</td>\n",
       "      <td>1</td>\n",
       "    </tr>\n",
       "    <tr>\n",
       "      <th>4</th>\n",
       "      <td>0</td>\n",
       "      <td>1</td>\n",
       "    </tr>\n",
       "    <tr>\n",
       "      <th>...</th>\n",
       "      <td>...</td>\n",
       "      <td>...</td>\n",
       "    </tr>\n",
       "    <tr>\n",
       "      <th>5995</th>\n",
       "      <td>0</td>\n",
       "      <td>1</td>\n",
       "    </tr>\n",
       "    <tr>\n",
       "      <th>5996</th>\n",
       "      <td>1</td>\n",
       "      <td>0</td>\n",
       "    </tr>\n",
       "    <tr>\n",
       "      <th>5997</th>\n",
       "      <td>0</td>\n",
       "      <td>1</td>\n",
       "    </tr>\n",
       "    <tr>\n",
       "      <th>5998</th>\n",
       "      <td>0</td>\n",
       "      <td>1</td>\n",
       "    </tr>\n",
       "    <tr>\n",
       "      <th>5999</th>\n",
       "      <td>0</td>\n",
       "      <td>1</td>\n",
       "    </tr>\n",
       "  </tbody>\n",
       "</table>\n",
       "<p>6000 rows × 2 columns</p>\n",
       "</div>"
      ],
      "text/plain": [
       "      n1  n2\n",
       "0      0   1\n",
       "1      0   1\n",
       "2      1   0\n",
       "3      0   1\n",
       "4      0   1\n",
       "...   ..  ..\n",
       "5995   0   1\n",
       "5996   1   0\n",
       "5997   0   1\n",
       "5998   0   1\n",
       "5999   0   1\n",
       "\n",
       "[6000 rows x 2 columns]"
      ]
     },
     "execution_count": 110,
     "metadata": {},
     "output_type": "execute_result"
    }
   ],
   "source": [
    "pi_df"
   ]
  },
  {
   "cell_type": "code",
   "execution_count": 113,
   "id": "0253e88a-345b-46a5-898d-02fb62428211",
   "metadata": {},
   "outputs": [],
   "source": [
    "data1 = data[pi_df[pi_df[\"n1\"]==1].index]"
   ]
  },
  {
   "cell_type": "code",
   "execution_count": 116,
   "id": "de9eb197-76ba-43bf-ba6a-41241b67fcc6",
   "metadata": {},
   "outputs": [
    {
     "data": {
      "text/plain": [
       "array([2.30146799, 2.16358357])"
      ]
     },
     "execution_count": 116,
     "metadata": {},
     "output_type": "execute_result"
    }
   ],
   "source": [
    "np.mean(data1, axis=0)"
   ]
  },
  {
   "cell_type": "code",
   "execution_count": 118,
   "id": "ca99554b-c246-4079-be08-0ed5f8bc28c4",
   "metadata": {},
   "outputs": [
    {
     "data": {
      "text/plain": [
       "array([0.63635334, 2.455219  ])"
      ]
     },
     "execution_count": 118,
     "metadata": {},
     "output_type": "execute_result"
    }
   ],
   "source": [
    "np.var(data1, axis=0)"
   ]
  },
  {
   "cell_type": "code",
   "execution_count": 133,
   "id": "0ec8392d-90fc-4da9-9295-ce5943c2361b",
   "metadata": {},
   "outputs": [],
   "source": [
    "subtracted = data1-np.mean(data1, axis=0)"
   ]
  },
  {
   "cell_type": "code",
   "execution_count": 150,
   "id": "9bfa9b70-31bb-4a09-8c5b-6d8e33f1dfa5",
   "metadata": {},
   "outputs": [],
   "source": [
    "cov = np.dot(subtracted.T, subtracted)/(data1.shape[0]-1)"
   ]
  },
  {
   "cell_type": "code",
   "execution_count": 152,
   "id": "adae4ae7-7677-4f18-ba67-efe282fc821e",
   "metadata": {},
   "outputs": [],
   "source": [
    "new_w1 = data1.shape[0]/data.shape[0]"
   ]
  },
  {
   "cell_type": "code",
   "execution_count": 237,
   "id": "0b9583db-bb21-4d62-930e-f5028c881d67",
   "metadata": {},
   "outputs": [
    {
     "data": {
      "text/plain": [
       "array([[ 4.21116364, -4.27975193],\n",
       "       [-4.27975193,  6.52151361]])"
      ]
     },
     "execution_count": 237,
     "metadata": {},
     "output_type": "execute_result"
    }
   ],
   "source": [
    "from scipy.stats import wishart\n",
    "wishart.rvs(3, np.eye(2)) #df=3 where df>=dim and dim=2"
   ]
  },
  {
   "cell_type": "code",
   "execution_count": 10,
   "id": "465307df-c64a-4639-8ea5-2f58c3dfa87b",
   "metadata": {},
   "outputs": [],
   "source": [
    "from scipy.stats import multivariate_normal"
   ]
  },
  {
   "cell_type": "code",
   "execution_count": 75,
   "id": "359f2434-1d06-420b-9946-b4eaf7cd2d87",
   "metadata": {},
   "outputs": [],
   "source": [
    "def posi_semi_defi(dim):\n",
    "    rand_mat = np.random.rand(dim,dim)\n",
    "    sym_mat = 0.5*(rand_mat+rand_mat.T)\n",
    "    cov_mat = np.dot(sym_mat, sym_mat.T)\n",
    "    return cov_mat"
   ]
  },
  {
   "cell_type": "code",
   "execution_count": 83,
   "id": "d0c9d438-60b1-4943-9ddd-a3f2a7fc34de",
   "metadata": {},
   "outputs": [
    {
     "name": "stdout",
     "output_type": "stream",
     "text": [
      "2500\n",
      "[0.87298367 0.59275723] [0.86155947 0.0858679 ]\n",
      "[[0.16559928 0.07282539]\n",
      " [0.07282539 0.03220756]] [[2.88675072 1.25167047]\n",
      " [1.25167047 1.65534187]]\n",
      "0.004716801631031957 0.9885817813339133\n"
     ]
    }
   ],
   "source": [
    "#Set some random parameter values \n",
    "mu1,mu2 = np.random.random(2), np.random.random(2)\n",
    "cov1, cov2 = posi_semi_defi(2), posi_semi_defi(2)\n",
    "# print(cov1, cov2)\n",
    "\n",
    "# mu1, mu2 = [1,2], [3,5]\n",
    "# sigma1, sigma2 = wishart.rvs(3, np.eye(2)), wishart.rvs(3, np.eye(2))\n",
    "# cov1, cov2 = [[1,0],[0,4]], [[2,0.4],[0.4,2]]\n",
    "w1 = np.random.random()\n",
    "w2 = 1-w1\n",
    "# w1, w2 = 0.5, 0.5\n",
    "prev_prob1 = np.zeros(data.shape[0])\n",
    "prev_prob2 = np.zeros(data.shape[0])\n",
    "prob_1, prob_2 = np.ones(data.shape[0]), np.ones(data.shape[0])\n",
    "iteration = 0\n",
    "c1,c2 = 101, 101\n",
    "# for iteration in tqdm(range(1000)):\n",
    "# while not np.array_equal(np.column_stack((prev_prob1, prev_prob2)),np.column_stack((prob_1, prob_2))) or iteration<5000:\n",
    "while not np.allclose(np.column_stack((prev_prob1, prev_prob2)),np.column_stack((prob_1, prob_2))) or iteration<2500:\n",
    "# while c1 > 100 and c2 > 100 or iteration < 10000:\n",
    "    prev_prob1 = prob_1\n",
    "    prev_prob2 = prob_2\n",
    "    \n",
    "    #E-Step\n",
    "    \n",
    "    #Fit a multivariate normal distribution for the random parameters\n",
    "    mv1 = multivariate_normal(mu1, cov1)\n",
    "    mv2 = multivariate_normal(mu2, cov2)\n",
    "    \n",
    "    #Calculate the posterior probability of each data point\n",
    "    prob_1 = w1*mv1.pdf(data)\n",
    "    prob_2 = w2*mv2.pdf(data)\n",
    "\n",
    "    prob_1 = prob_1/(prob_1+prob_2)\n",
    "    prob_2 = prob_2/(prob_1+prob_2)\n",
    "\n",
    "    # #Create the pi matrix based on posterior probability\n",
    "    # pi_df = pd.DataFrame(columns = [\"n1\",\"n2\"])\n",
    "    # pi_df[\"n1\"] = np.where(prob_1>prob_2, 1,0)\n",
    "    # pi_df[\"n2\"] = np.where(prob_1<prob_2, 1,0)\n",
    "\n",
    "\n",
    "    #M-Step\n",
    "\n",
    "    #Using the pi matrix, get the data for each of the two distributions\n",
    "    # data1 = data[pi_df[pi_df[\"n1\"]==1].index]\n",
    "    # data2 = data[pi_df[pi_df[\"n2\"]==1].index]\n",
    "\n",
    "    #Calculate the updated parameters for both data\n",
    "    # mu1 = np.mean(data1, axis=0)\n",
    "    # mu2 = np.mean(data2, axis=0)\n",
    "\n",
    "    mu1 = np.matmul(data.T,prob_1)/sum(prob_1)\n",
    "    mu2 = np.matmul(data.T,prob_2)/sum(prob_2)\n",
    "\n",
    "    # sub1 = data1-np.mean(data1, axis=0)\n",
    "    # sub2 = data2-np.mean(data2, axis=0)\n",
    "\n",
    "    # cov1 = np.dot(sub1.T, sub1)/(data1.shape[0])\n",
    "    # cov2 = np.dot(sub2.T, sub2)/(data2.shape[0])\n",
    "\n",
    "    sub1 = data-mu1\n",
    "    sub2 = data-mu2\n",
    "\n",
    "    cov1 = np.matmul((prob_1*sub1.T),sub1)/sum(prob_1)\n",
    "    cov2 = np.matmul((prob_2*sub2.T),sub2)/sum(prob_2)\n",
    "    \n",
    "    # prod1 = np.einsum('ij,ik->ijk', sub1,sub1)\n",
    "    # prod2 = np.einsum('ij,ik->ijk', sub2,sub2)\n",
    "\n",
    "    # cov1 = np.dot(prod1.T, prob_1)/sum(prob_1)\n",
    "    # cov2 = np.dot(prod2.T, prob_2)/sum(prob_2)\n",
    "    \n",
    "    # w1 = data1.shape[0]/data.shape[0]\n",
    "    # w2 = 1-w1\n",
    "\n",
    "    w1 = sum(prob_1)/data.shape[0]\n",
    "    w2 = sum(prob_2)/data.shape[0]\n",
    "\n",
    "    # c1 = np.sum((prob_1 - prev_prob1)/prev_prob1)\n",
    "    # c2 = np.sum((prob_2 - prev_prob2)/prev_prob2)\n",
    "\n",
    "    # prev_prob1 = prob_1\n",
    "    # prev_prob2 = prob_2\n",
    "\n",
    "    iteration+=1\n",
    "    # print(iteration)\n",
    "\n",
    "print(iteration)\n",
    "print(mu1,mu2)\n",
    "print(cov1,cov2)\n",
    "print(w1,w2)"
   ]
  },
  {
   "cell_type": "code",
   "execution_count": 46,
   "id": "85774339-f85e-4b9e-b086-51a7c120a2e3",
   "metadata": {},
   "outputs": [
    {
     "data": {
      "text/plain": [
       "array([5.68542004, 3.67232189])"
      ]
     },
     "execution_count": 46,
     "metadata": {},
     "output_type": "execute_result"
    }
   ],
   "source": [
    "np.dot(data.T,prob_1)/sum(prob_1)"
   ]
  },
  {
   "cell_type": "code",
   "execution_count": 27,
   "id": "dd6ea028-7866-4255-b226-cdfb76cc67ac",
   "metadata": {},
   "outputs": [
    {
     "data": {
      "text/plain": [
       "array([[3.19751722, 1.80993971],\n",
       "       [1.80993971, 1.85075737]])"
      ]
     },
     "execution_count": 27,
     "metadata": {},
     "output_type": "execute_result"
    }
   ],
   "source": [
    "np.dot((prob_1*sub1.T),sub1)/sum(prob_1)"
   ]
  },
  {
   "cell_type": "code",
   "execution_count": 22,
   "id": "641e6c38-491b-4b5c-9f00-d91eba1b928a",
   "metadata": {},
   "outputs": [
    {
     "data": {
      "text/plain": [
       "(2, 6000)"
      ]
     },
     "execution_count": 22,
     "metadata": {},
     "output_type": "execute_result"
    }
   ],
   "source": [
    "(prob_1*sub1.T).shape"
   ]
  },
  {
   "cell_type": "code",
   "execution_count": 24,
   "id": "4d10907b-781c-4bab-8003-bb47fbc66a95",
   "metadata": {},
   "outputs": [
    {
     "data": {
      "text/plain": [
       "(6000, 2)"
      ]
     },
     "execution_count": 24,
     "metadata": {},
     "output_type": "execute_result"
    }
   ],
   "source": [
    "sub1.shape"
   ]
  },
  {
   "cell_type": "code",
   "execution_count": 124,
   "id": "1418ac46-ab28-4de1-a68f-89a5e65f3bf5",
   "metadata": {},
   "outputs": [
    {
     "data": {
      "text/plain": [
       "array([[1.00000000e+000, 1.04047685e-161],\n",
       "       [1.00000000e+000, 3.16453351e-052],\n",
       "       [1.00000000e+000, 1.29728574e-206],\n",
       "       ...,\n",
       "       [1.00000000e+000, 7.95844003e-282],\n",
       "       [1.00000000e+000, 0.00000000e+000],\n",
       "       [1.00000000e+000, 0.00000000e+000]])"
      ]
     },
     "execution_count": 124,
     "metadata": {},
     "output_type": "execute_result"
    }
   ],
   "source": [
    "np.column_stack((prob_1,prob_2))"
   ]
  },
  {
   "cell_type": "code",
   "execution_count": 129,
   "id": "ffca0491-83c7-4c2b-9cec-cd1ef074cb6b",
   "metadata": {},
   "outputs": [
    {
     "data": {
      "text/plain": [
       "6000.0"
      ]
     },
     "execution_count": 129,
     "metadata": {},
     "output_type": "execute_result"
    }
   ],
   "source": [
    "np.sum((prob_1 - prev_prob1)/prob_1)"
   ]
  },
  {
   "cell_type": "code",
   "execution_count": 38,
   "id": "8d29cc94-3869-4822-babf-7d559ef2ea14",
   "metadata": {},
   "outputs": [
    {
     "data": {
      "text/plain": [
       "array([2.38079374, 4.81212581])"
      ]
     },
     "execution_count": 38,
     "metadata": {},
     "output_type": "execute_result"
    }
   ],
   "source": [
    "np.dot(data.T,prob_1)/sum(prob_1)"
   ]
  },
  {
   "cell_type": "code",
   "execution_count": 95,
   "id": "74e20659-3009-43de-877f-513ef1e86374",
   "metadata": {},
   "outputs": [
    {
     "ename": "ValueError",
     "evalue": "operands could not be broadcast together with shapes (2,) (6000,) ",
     "output_type": "error",
     "traceback": [
      "\u001b[0;31m---------------------------------------------------------------------------\u001b[0m",
      "\u001b[0;31mValueError\u001b[0m                                Traceback (most recent call last)",
      "Cell \u001b[0;32mIn[95], line 1\u001b[0m\n\u001b[0;32m----> 1\u001b[0m \u001b[43mprob_1\u001b[49m\u001b[43m[\u001b[49m\u001b[38;5;241;43m0\u001b[39;49m\u001b[43m]\u001b[49m\u001b[38;5;241;43m*\u001b[39;49m\u001b[43msub1\u001b[49m\u001b[43m[\u001b[49m\u001b[38;5;241;43m0\u001b[39;49m\u001b[43m]\u001b[49m\u001b[38;5;241;43m*\u001b[39;49m\u001b[43m(\u001b[49m\u001b[43msub1\u001b[49m\u001b[38;5;241;43m.\u001b[39;49m\u001b[43mT\u001b[49m\u001b[43m[\u001b[49m\u001b[38;5;241;43m0\u001b[39;49m\u001b[43m]\u001b[49m\u001b[43m)\u001b[49m\n",
      "\u001b[0;31mValueError\u001b[0m: operands could not be broadcast together with shapes (2,) (6000,) "
     ]
    }
   ],
   "source": [
    "prob_1[0]*sub1[0]*(sub1.T[0])"
   ]
  },
  {
   "cell_type": "code",
   "execution_count": 110,
   "id": "75a34a2a-3096-4904-97bd-1c3f1798d6d7",
   "metadata": {},
   "outputs": [],
   "source": [
    "sub = data-mu1"
   ]
  },
  {
   "cell_type": "code",
   "execution_count": 111,
   "id": "b6625a43-b494-4ca9-ae53-7a1493b0825d",
   "metadata": {},
   "outputs": [],
   "source": [
    "prod = np.einsum('ij,ik->ijk', sub, sub)"
   ]
  },
  {
   "cell_type": "code",
   "execution_count": 112,
   "id": "3559a0ce-d685-4b54-9417-cccedede2fc5",
   "metadata": {},
   "outputs": [
    {
     "data": {
      "text/plain": [
       "array([[0.48153333, 0.6464517 ],\n",
       "       [0.6464517 , 2.27683878]])"
      ]
     },
     "execution_count": 112,
     "metadata": {},
     "output_type": "execute_result"
    }
   ],
   "source": [
    "np.dot(prod.T, prob_1)/sum(prob_1)"
   ]
  },
  {
   "cell_type": "code",
   "execution_count": 77,
   "id": "e9e96d1d-ad38-4271-a13e-ed8396b6792b",
   "metadata": {},
   "outputs": [
    {
     "data": {
      "text/plain": [
       "array([[-1.35891298e-13],\n",
       "       [-5.64881475e-13]])"
      ]
     },
     "execution_count": 77,
     "metadata": {},
     "output_type": "execute_result"
    }
   ],
   "source": [
    "np.dot(prob_1.reshape(6000,1).T,sub1).T"
   ]
  },
  {
   "cell_type": "code",
   "execution_count": 178,
   "id": "f5cc5a24-2034-4384-8cb0-6065092bbd12",
   "metadata": {},
   "outputs": [],
   "source": [
    "final_cov = [[0,0],[0,0]]\n",
    "for i in range(data.shape[0]):\n",
    "    mini_cov = prob_1[i]*((data[i]-mu1*np.array(data[i]-mu1).reshape(2,1)))/sum(prob_1)\n",
    "    final_cov = final_cov+mini_cov"
   ]
  },
  {
   "cell_type": "code",
   "execution_count": 181,
   "id": "7ba281a5-8e78-4817-9ac5-095d01ce9a67",
   "metadata": {},
   "outputs": [
    {
     "data": {
      "text/plain": [
       "array([[2.48808849, 4.89132051],\n",
       "       [2.48808849, 4.89132051]])"
      ]
     },
     "execution_count": 181,
     "metadata": {},
     "output_type": "execute_result"
    }
   ],
   "source": [
    "final_cov"
   ]
  },
  {
   "cell_type": "code",
   "execution_count": 29,
   "id": "8e44146d-1f7c-4695-96bb-0ba504cb6629",
   "metadata": {},
   "outputs": [],
   "source": [
    "# plt.scatter(data1[:,0],data1[:,1])\n",
    "# plt.scatter(data2[:,0],data2[:,1])\n",
    "# plt.show"
   ]
  },
  {
   "cell_type": "code",
   "execution_count": 3,
   "id": "2e78b7f5-9275-4a62-b5ae-1817bd6b2485",
   "metadata": {},
   "outputs": [],
   "source": [
    "x, y = [], []\n",
    "with open('/Users/rutvikdhopate/Downloads/3gaussian.txt') as file:\n",
    "    for line in file:\n",
    "        x.append(line.split(' ')[0])\n",
    "        y.append(line.split(' ')[1][:-2])\n",
    "\n",
    "x = np.array(x).astype(np.float64)\n",
    "y = np.array(y).astype(np.float64)\n",
    "\n",
    "data = pd.DataFrame(columns = [\"x\",\"y\"])\n",
    "data[\"x\"] = x\n",
    "data[\"y\"] = y\n",
    "\n",
    "data = data.values"
   ]
  },
  {
   "cell_type": "code",
   "execution_count": 14,
   "id": "859125e4-5e54-4522-8430-1677102b8bb2",
   "metadata": {},
   "outputs": [
    {
     "name": "stderr",
     "output_type": "stream",
     "text": [
      "100%|██████████████████████████████████████| 5000/5000 [00:05<00:00, 963.00it/s]"
     ]
    },
    {
     "name": "stdout",
     "output_type": "stream",
     "text": [
      "[4.07011734 3.56122319] [7.10758881 3.77171345] [2.8093837  3.37416266]\n",
      "[[3.71280257 1.49632864]\n",
      " [1.49632864 3.06387854]] [[0.98717073 0.58454973]\n",
      " [0.58454973 0.74814917]] [[0.44377557 0.73848242]\n",
      " [0.73848242 1.22944483]]\n",
      "0.467 0.528 0.004999999999999893\n"
     ]
    },
    {
     "name": "stderr",
     "output_type": "stream",
     "text": [
      "\n"
     ]
    }
   ],
   "source": [
    "#Set some random parameter values\n",
    "mu1,mu2,mu3 = np.random.random(2), np.random.random(2), np.random.random(2)\n",
    "sigma1, sigma2, sigma3 = posi_semi_defi(2), posi_semi_defi(2), posi_semi_defi(2)\n",
    "weights = np.random.rand(3)\n",
    "weights = weights/weights.sum()\n",
    "w1, w2, w3 = weights[0], weights[1], weights[2]\n",
    "\n",
    "for iteration in tqdm(range(5000)):\n",
    "    #E-Step\n",
    "    \n",
    "    #Fit a multivariate normal distribution for the random parameters\n",
    "    mv1 = multivariate_normal(mu1, sigma1)\n",
    "    mv2 = multivariate_normal(mu2, sigma2)\n",
    "    mv3 = multivariate_normal(mu3, sigma3)\n",
    "\n",
    "    #Calculate the posterior probability of each data point\n",
    "    prob_1 = w1*mv1.pdf(data)\n",
    "    prob_2 = w2*mv2.pdf(data)\n",
    "    prob_3 = w3*mv3.pdf(data)\n",
    "    \n",
    "    #Create the pi matrix based on posterior probability\n",
    "    prob_arrays = np.column_stack((prob_1, prob_2, prob_3))\n",
    "    idx = np.argmax(prob_arrays, axis = 1)\n",
    "    temp_arrays = np.zeros_like(prob_arrays)\n",
    "    temp_arrays[np.arange(prob_arrays.shape[0]),idx] = 1\n",
    "    \n",
    "    pi_df = pd.DataFrame(temp_arrays.astype(int), columns = [\"n1\",\"n2\",\"n3\"])\n",
    "    # print(pi_df)\n",
    "    \n",
    "    #M-Step\n",
    "    \n",
    "    #Using the pi matrix, get the data for each of the three distributions\n",
    "    data1 = data[pi_df[pi_df[\"n1\"]==1].index]\n",
    "    data2 = data[pi_df[pi_df[\"n2\"]==1].index]\n",
    "    data3 = data[pi_df[pi_df[\"n3\"]==1].index]\n",
    "\n",
    "    # print(data3)\n",
    "    #Calculate the updated parameters\n",
    "    mu1 = np.mean(data1, axis=0)\n",
    "    mu2 = np.mean(data2, axis=0)\n",
    "    mu3 = np.mean(data3, axis=0)\n",
    "    \n",
    "    sub1 = data1-np.mean(data1, axis=0)\n",
    "    sub2 = data2-np.mean(data2, axis=0)\n",
    "    sub3 = data3-np.mean(data3, axis=0)\n",
    "    \n",
    "    cov1 = np.dot(sub1.T, sub1)/(data1.shape[0]-1)\n",
    "    cov2 = np.dot(sub2.T, sub2)/(data2.shape[0]-1)\n",
    "    cov3 = np.dot(sub3.T, sub3)/(data3.shape[0]-1)\n",
    "    \n",
    "    w1 = data1.shape[0]/data.shape[0]\n",
    "    w2 = data2.shape[0]/data.shape[0]\n",
    "    w3 = 1-w1-w2\n",
    "\n",
    "print(mu1,mu2,mu3)\n",
    "print(cov1,cov2,cov3)\n",
    "print(w1,w2,w3)"
   ]
  },
  {
   "cell_type": "code",
   "execution_count": null,
   "id": "9d1c83cb-aedb-40d9-9369-87e9e18f9101",
   "metadata": {},
   "outputs": [],
   "source": []
  },
  {
   "cell_type": "code",
   "execution_count": 46,
   "id": "67eba3de-a508-4d83-86b4-494e5a7874ca",
   "metadata": {},
   "outputs": [],
   "source": [
    "#Set some random parameter values \n",
    "# mu1,mu2 = np.random.random(2), np.random.random(2)\n",
    "mu1, mu2 = [1,2], [5,7]\n",
    "sigma1, sigma2 = [[3,0],[0,3]], [[1,0],[0,1]]\n",
    "w1 = np.random.random()\n",
    "w2 = 1-w1"
   ]
  },
  {
   "cell_type": "code",
   "execution_count": 42,
   "id": "27f0d1f4-5c16-44c1-a59f-fe1e30555911",
   "metadata": {},
   "outputs": [],
   "source": [
    "d1 = np.random.multivariate_normal(mu1, sigma1, round(6000*w1))\n",
    "d2 = np.random.multivariate_normal(mu2, sigma2, round(6000*w2))"
   ]
  },
  {
   "cell_type": "code",
   "execution_count": 23,
   "id": "48817479-9017-4733-8798-1aa800f79b0c",
   "metadata": {},
   "outputs": [],
   "source": [
    "data = np.row_stack((d1,d2))"
   ]
  },
  {
   "cell_type": "code",
   "execution_count": 24,
   "id": "723a8b92-0142-40e0-99a4-92df6202b359",
   "metadata": {},
   "outputs": [
    {
     "data": {
      "text/plain": [
       "array([[ 0.02393482,  0.51501341],\n",
       "       [ 0.59353706,  0.332985  ],\n",
       "       [ 1.14158664,  0.89084295],\n",
       "       ...,\n",
       "       [ 1.50962403, -1.7516842 ],\n",
       "       [ 1.57679548,  0.24291448],\n",
       "       [-1.34675462, -0.80144579]])"
      ]
     },
     "execution_count": 24,
     "metadata": {},
     "output_type": "execute_result"
    }
   ],
   "source": [
    "data"
   ]
  },
  {
   "cell_type": "code",
   "execution_count": 63,
   "id": "4c440a09-c04b-43ac-9fbf-dda2942a5d13",
   "metadata": {},
   "outputs": [],
   "source": [
    "mv1 = multivariate_normal(mu1, sigma1)\n",
    "mv2 = multivariate_normal(mu2, sigma2)"
   ]
  },
  {
   "cell_type": "code",
   "execution_count": 64,
   "id": "dd1c4d67-a722-4827-b7ac-60af35e7bc6b",
   "metadata": {},
   "outputs": [],
   "source": [
    "prob_1 = mv1.pdf(data)\n",
    "prob_2 = mv2.pdf(data)"
   ]
  },
  {
   "cell_type": "code",
   "execution_count": 65,
   "id": "a1c1225f-cd48-4396-a1be-53243cc094e8",
   "metadata": {},
   "outputs": [],
   "source": [
    "prob_1 = w1*prob_1/(w1*prob_1+w2*prob_2)\n",
    "prob_2 = w2*prob_2/(w1*prob_1+w2*prob_2)"
   ]
  },
  {
   "cell_type": "code",
   "execution_count": 71,
   "id": "3fb832ea-b1a4-4322-8e0d-3984d8ff7e4c",
   "metadata": {},
   "outputs": [
    {
     "data": {
      "text/plain": [
       "(array([3.07156976e-53, 7.11409328e-53, 1.43032812e-50, ...,\n",
       "        3.63970306e-03, 4.93786340e-02, 2.10260862e-01]),\n",
       " array([1, 1, 1, ..., 1, 1, 1]))"
      ]
     },
     "execution_count": 71,
     "metadata": {},
     "output_type": "execute_result"
    }
   ],
   "source": []
  },
  {
   "cell_type": "code",
   "execution_count": 52,
   "id": "bf6598cc-68bc-46d3-b73a-1339336a6406",
   "metadata": {},
   "outputs": [],
   "source": [
    "import matplotlib.pyplot as plt\n",
    "from scipy.stats import multivariate_normal"
   ]
  },
  {
   "cell_type": "code",
   "execution_count": 49,
   "id": "ee753d08-ff6c-435b-9e6b-2eacdae7df59",
   "metadata": {},
   "outputs": [
    {
     "data": {
      "image/png": "[encoded data removed]",
      "text/plain": [
       "<Figure size 640x480 with 1 Axes>"
      ]
     },
     "metadata": {},
     "output_type": "display_data"
    }
   ],
   "source": [
    "plt.scatter(d2[:,0],d2[:,1])\n",
    "plt.scatter(d1[:,0],d1[:,1])\n",
    "\n",
    "\n",
    "\n",
    "plt.show()"
   ]
  },
  {
   "cell_type": "code",
   "execution_count": null,
   "id": "b7fbf16b-e9b1-4165-a4c7-6c9bd5b4a44f",
   "metadata": {},
   "outputs": [],
   "source": []
  }
 ],
 "metadata": {
  "kernelspec": {
   "display_name": "Python 3 (ipykernel)",
   "language": "python",
   "name": "python3"
  },
  "language_info": {
   "codemirror_mode": {
    "name": "ipython",
    "version": 3
   },
   "file_extension": ".py",
   "mimetype": "text/x-python",
   "name": "python",
   "nbconvert_exporter": "python",
   "pygments_lexer": "ipython3",
   "version": "3.9.6"
  }
 },
 "nbformat": 4,
 "nbformat_minor": 5
}
